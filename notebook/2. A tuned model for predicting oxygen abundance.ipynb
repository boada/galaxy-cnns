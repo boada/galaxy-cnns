{
 "cells": [
  {
   "cell_type": "markdown",
   "metadata": {},
   "source": [
    "# Overview\n",
    "\n",
    "Here we are simply trying to minimize the root mean square error for predicting the 50th percentile [O/H] from SDSS spectroscopy. Everything in this notebook follows from the previous one."
   ]
  },
  {
   "cell_type": "markdown",
   "metadata": {},
   "source": [
    "# Imports and other necessary functions"
   ]
  },
  {
   "cell_type": "code",
   "execution_count": 1,
   "metadata": {},
   "outputs": [],
   "source": [
    "%reload_ext autoreload\n",
    "%autoreload 2\n",
    "%matplotlib inline\n",
    "\n",
    "from fastai.imports import *\n",
    "from fastai.transforms import *\n",
    "from fastai.conv_learner import *\n",
    "from fastai.model import *\n",
    "from fastai.dataset import *\n",
    "from fastai.sgdr import *\n",
    "from fastai.plots import *\n",
    "\n",
    "import torch \n",
    "\n",
    "from IPython.display import display\n"
   ]
  },
  {
   "cell_type": "code",
   "execution_count": 2,
   "metadata": {},
   "outputs": [],
   "source": [
    "PATH = os.path.abspath('..')"
   ]
  },
  {
   "cell_type": "code",
   "execution_count": 3,
   "metadata": {},
   "outputs": [],
   "source": [
    "def parse_csv_multi_class_probabilities(path_to_csv):\n",
    "    \"\"\"Parse filenames and probabilities for classes from a CSV file.\n",
    "\n",
    "    This method expects that the csv file at path :fn: has one column for filenames,\n",
    "    while all the other columns represent classes.\n",
    "    Expects a header with class names\n",
    "\n",
    "    Arguments:\n",
    "        path_to_csv: Path to a CSV file.\n",
    "\n",
    "    Returns:\n",
    "        a three-tuple of:            \n",
    "            a list of filenames\n",
    "            a list of probabilities in the same order\n",
    "            a dictionary of classes by classIndex           \n",
    "    \"\"\"\n",
    "    with open(path_to_csv) as fileobj:\n",
    "        reader = csv.reader(fileobj)\n",
    "        header = next(reader)\n",
    "        csv_lines = [l for l in reader]\n",
    "\n",
    "    fnames = [fname for fname, *_ in csv_lines]\n",
    "    classes = header[1:]\n",
    "    probabilities = [probs for _, *probs in csv_lines]\n",
    "    idx2class = {i:c for i, c in enumerate(classes)}\n",
    "   \n",
    "    return fnames, probabilities, idx2class\n",
    "\n",
    "def csv_source_multi_class(folder, csv_file, suffix=''):\n",
    "    fnames, probabilities, idx2class = parse_csv_multi_class_probabilities(csv_file)\n",
    "    full_names = [os.path.join(folder,fn+suffix) for fn in fnames]\n",
    "   \n",
    "    prob_arr = np.array(probabilities).astype(np.float32)\n",
    "    \n",
    "    return full_names, prob_arr, idx2class"
   ]
  },
  {
   "cell_type": "code",
   "execution_count": 4,
   "metadata": {},
   "outputs": [],
   "source": [
    "@classmethod\n",
    "def from_multiclass_csv(cls, path, folder, csv_fname, bs=64, tfms=(None,None),\n",
    "           val_idxs=None, suffix='', test_name=None, num_workers=8):\n",
    "    \"\"\" Read in images and their labels given as a CSV file.\n",
    "--\n",
    "    This method should be used when training image labels are given in an CSV file as opposed to\n",
    "    sub-directories with label names.\n",
    "\n",
    "    Arguments:\n",
    "        path: a root path of the data (used for storing trained models, precomputed values, etc)\n",
    "        folder: a name of the folder in which training images are contained.\n",
    "        csv_fname: a name of the CSV file which contains target labels.\n",
    "        bs: batch size\n",
    "        tfms: transformations (for data augmentations). e.g. output of `tfms_from_model`\n",
    "        val_idxs: index of images to be used for validation. e.g. output of `get_cv_idxs`.\n",
    "            If None, default arguments to get_cv_idxs are used.\n",
    "        suffix: suffix to add to image names in CSV file (sometimes CSV only contains the file name without file\n",
    "                extension e.g. '.jpg' - in which case, you can set suffix as '.jpg')\n",
    "        test_name: a name of the folder which contains test images.\n",
    "        skip_header: skip the first row of the CSV file.\n",
    "        num_workers: number of workers\n",
    "\n",
    "    Returns:\n",
    "        ImageClassifierData\n",
    "    \"\"\"\n",
    "    fnames,y,idx2class = csv_source_multi_class(folder, csv_fname, suffix)\n",
    "\n",
    "    val_idxs = get_cv_idxs(len(fnames)) if val_idxs is None else val_idxs\n",
    "    ((val_fnames,trn_fnames),(val_y,trn_y)) = split_by_idx(val_idxs, np.array(fnames), y)\n",
    "\n",
    "    test_fnames = read_dir(path, test_name) if test_name else None\n",
    "    \n",
    "    f = FilesIndexArrayRegressionDataset\n",
    "    datasets = cls.get_ds(f, (trn_fnames,trn_y), (val_fnames,val_y), tfms,\n",
    "                           path=path, test=test_fnames)\n",
    "    return cls(path, datasets, bs, num_workers, classes=list(idx2class.values()))\n",
    "\n",
    "ImageClassifierData.from_multiclass_csv = from_multiclass_csv"
   ]
  },
  {
   "cell_type": "markdown",
   "metadata": {},
   "source": [
    "# Initialize network\n",
    "\n",
    "Let's use the resnet50 this time."
   ]
  },
  {
   "cell_type": "code",
   "execution_count": 5,
   "metadata": {},
   "outputs": [],
   "source": [
    "train_label_csv = f'{PATH}/catalogs/train.csv'\n",
    "df = pd.read_csv(train_label_csv, index_col=0)\n",
    "\n",
    "n = len(df)\n",
    "\n",
    "# test-val split\n",
    "val_idxs = get_cv_idxs(n)"
   ]
  },
  {
   "cell_type": "code",
   "execution_count": 6,
   "metadata": {},
   "outputs": [],
   "source": [
    "sz = 32\n",
    "bs = 64\n",
    "arch = resnet50\n",
    "\n",
    "def get_data(sz, bs):\n",
    "    tfms = tfms_from_model(arch, sz, aug_tfms=transforms_top_down, max_zoom=1.1)\n",
    "    return ImageClassifierData.from_multiclass_csv(PATH, 'images', train_label_csv, tfms=tfms,\n",
    "                    suffix='.jpg', val_idxs=val_idxs, test_name='test', num_workers=4, )"
   ]
  },
  {
   "cell_type": "code",
   "execution_count": 7,
   "metadata": {},
   "outputs": [
    {
     "name": "stderr",
     "output_type": "stream",
     "text": [
      "Downloading: \"https://download.pytorch.org/models/resnet50-19c8e357.pth\" to C:\\Users\\John/.torch\\models\\resnet50-19c8e357.pth\n",
      "100%|██████████████████████████████████████████████████████████████| 102502400/102502400 [00:07<00:00, 13942474.52it/s]\n"
     ]
    }
   ],
   "source": [
    "data = get_data(sz, bs)\n",
    "learn = ConvLearner.pretrained(arch, data)"
   ]
  },
  {
   "cell_type": "code",
   "execution_count": 8,
   "metadata": {},
   "outputs": [],
   "source": [
    "def rmse(x, y):\n",
    "    return torch.sqrt(F.mse_loss(x,y))\n",
    "\n",
    "metrics = [rmse]\n",
    "learn.crit = rmse"
   ]
  },
  {
   "cell_type": "code",
   "execution_count": 9,
   "metadata": {},
   "outputs": [
    {
     "data": {
      "application/vnd.jupyter.widget-view+json": {
       "model_id": "b10f10c135934cb691c782559b5cb777",
       "version_major": 2,
       "version_minor": 0
      },
      "text/plain": [
       "HBox(children=(IntProgress(value=0, description='Epoch', max=1), HTML(value='')))"
      ]
     },
     "metadata": {},
     "output_type": "display_data"
    },
    {
     "name": "stdout",
     "output_type": "stream",
     "text": [
      " 81%|███████████████████████████████████████████████████████▏            | 973/1200 [00:45<00:10, 21.29it/s, loss=1.73]"
     ]
    },
    {
     "data": {
      "image/png": "[encoded data removed]",
      "text/plain": [
       "<Figure size 432x288 with 1 Axes>"
      ]
     },
     "metadata": {},
     "output_type": "display_data"
    },
    {
     "name": "stdout",
     "output_type": "stream",
     "text": [
      "\r",
      " 81%|███████████████████████████████████████████████████████▏            | 973/1200 [01:00<00:13, 16.21it/s, loss=1.73]"
     ]
    }
   ],
   "source": [
    "learn.lr_find()\n",
    "learn.sched.plot()"
   ]
  },
  {
   "cell_type": "markdown",
   "metadata": {},
   "source": [
    "# Begin training"
   ]
  },
  {
   "cell_type": "markdown",
   "metadata": {},
   "source": [
    "I remember from before that a learning rate of 0.1 seems good..."
   ]
  },
  {
   "cell_type": "code",
   "execution_count": 10,
   "metadata": {},
   "outputs": [
    {
     "data": {
      "application/vnd.jupyter.widget-view+json": {
       "model_id": "8c45baea62ef4f9cac768a87a16e465d",
       "version_major": 2,
       "version_minor": 0
      },
      "text/plain": [
       "HBox(children=(IntProgress(value=0, description='Epoch', max=3), HTML(value='')))"
      ]
     },
     "metadata": {},
     "output_type": "display_data"
    },
    {
     "name": "stdout",
     "output_type": "stream",
     "text": [
      "epoch      trn_loss   val_loss                                                                                         \n",
      "    0      0.144944   0.134139  \n",
      "    1      0.140994   0.129885                                                                                         \n",
      "    2      0.13661    0.128977                                                                                         \n"
     ]
    },
    {
     "data": {
      "text/plain": [
       "[array([0.12898])]"
      ]
     },
     "execution_count": 10,
     "metadata": {},
     "output_type": "execute_result"
    }
   ],
   "source": [
    "lr = 0.1\n",
    "learn.fit(lr, 3, cycle_len=1)"
   ]
  },
  {
   "cell_type": "code",
   "execution_count": 14,
   "metadata": {},
   "outputs": [
    {
     "data": {
      "image/png": "[encoded data removed]",
      "text/plain": [
       "<Figure size 432x288 with 1 Axes>"
      ]
     },
     "metadata": {},
     "output_type": "display_data"
    }
   ],
   "source": [
    "learn.sched.plot_loss(n_skip=400)"
   ]
  },
  {
   "cell_type": "markdown",
   "metadata": {},
   "source": [
    "## Unfreeze early layers\n",
    "We'll also lower the training rate slightly"
   ]
  },
  {
   "cell_type": "code",
   "execution_count": 15,
   "metadata": {},
   "outputs": [
    {
     "data": {
      "application/vnd.jupyter.widget-view+json": {
       "model_id": "2fccad07c4824b90ba1132e502023fd0",
       "version_major": 2,
       "version_minor": 0
      },
      "text/plain": [
       "HBox(children=(IntProgress(value=0, description='Epoch', max=7), HTML(value='')))"
      ]
     },
     "metadata": {},
     "output_type": "display_data"
    },
    {
     "name": "stdout",
     "output_type": "stream",
     "text": [
      "epoch      trn_loss   val_loss                                                                                         \n",
      "    0      0.104299   0.099176  \n",
      "    1      0.111203   0.109976                                                                                         \n",
      "    2      0.101749   0.096193                                                                                         \n",
      "    3      0.115845   0.149881                                                                                         \n",
      "    4      0.114905   0.093535                                                                                         \n",
      "    5      0.103222   0.098746                                                                                         \n",
      "    6      0.096776   0.091959                                                                                         \n"
     ]
    },
    {
     "data": {
      "text/plain": [
       "[array([0.09196])]"
      ]
     },
     "execution_count": 15,
     "metadata": {},
     "output_type": "execute_result"
    }
   ],
   "source": [
    "learn.unfreeze()\n",
    "lrs = 3e-2 * np.array([1/9, 1/3, 1])\n",
    "\n",
    "learn.fit(lr, 3, cycle_len=1, cycle_mult=2)"
   ]
  },
  {
   "cell_type": "code",
   "execution_count": 16,
   "metadata": {},
   "outputs": [
    {
     "data": {
      "image/png": "[encoded data removed]",
      "text/plain": [
       "<Figure size 432x288 with 1 Axes>"
      ]
     },
     "metadata": {},
     "output_type": "display_data"
    }
   ],
   "source": [
    "learn.sched.plot_loss()"
   ]
  },
  {
   "cell_type": "code",
   "execution_count": 17,
   "metadata": {},
   "outputs": [],
   "source": [
    "learn.save('resnet50_32_diff-1')"
   ]
  },
  {
   "cell_type": "markdown",
   "metadata": {},
   "source": [
    "## Size up to 64x64 \n",
    "Let's re-freeze + train some"
   ]
  },
  {
   "cell_type": "code",
   "execution_count": null,
   "metadata": {},
   "outputs": [],
   "source": [
    "data = get_data(64, 128)\n",
    "learn.set_data(data)\n",
    "\n",
    "learn.freeze()\n",
    "\n",
    "lr = 3e-2\n",
    "learn.fit(lr, 2, cycle_len=1, cycle_mult=2)\n",
    "learn.sched.plot_loss()"
   ]
  },
  {
   "cell_type": "markdown",
   "metadata": {},
   "source": [
    "Unfreeze and train more"
   ]
  },
  {
   "cell_type": "code",
   "execution_count": 19,
   "metadata": {},
   "outputs": [
    {
     "data": {
      "application/vnd.jupyter.widget-view+json": {
       "model_id": "824619a8eec94115a604bcb4861d0606",
       "version_major": 2,
       "version_minor": 0
      },
      "text/plain": [
       "HBox(children=(IntProgress(value=0, description='Epoch', max=7), HTML(value='')))"
      ]
     },
     "metadata": {},
     "output_type": "display_data"
    },
    {
     "name": "stdout",
     "output_type": "stream",
     "text": [
      "epoch      trn_loss   val_loss                                                                                         \n",
      "    0      0.099298   0.08965   \n",
      "    1      0.097944   0.092174                                                                                         \n",
      "    2      0.095455   0.087175                                                                                         \n",
      "    3      0.102868   0.126358                                                                                         \n",
      "    4      0.100132   0.106014                                                                                         \n",
      "    5      0.093405   0.088824                                                                                         \n",
      "    6      0.089049   0.086275                                                                                         \n"
     ]
    },
    {
     "data": {
      "text/plain": [
       "[array([0.08627])]"
      ]
     },
     "execution_count": 19,
     "metadata": {},
     "output_type": "execute_result"
    }
   ],
   "source": [
    "learn.unfreeze()\n",
    "\n",
    "lrs = 1e-2 * np.array([1/16, 1/4, 1])\n",
    "\n",
    "learn.fit(lrs, 3, cycle_len=1, cycle_mult=2)"
   ]
  },
  {
   "cell_type": "code",
   "execution_count": 20,
   "metadata": {},
   "outputs": [
    {
     "data": {
      "image/png": "[encoded data removed]",
      "text/plain": [
       "<Figure size 432x288 with 1 Axes>"
      ]
     },
     "metadata": {},
     "output_type": "display_data"
    }
   ],
   "source": [
    "learn.sched.plot_loss()"
   ]
  },
  {
   "cell_type": "code",
   "execution_count": 21,
   "metadata": {},
   "outputs": [],
   "source": [
    "learn.save('resnet50_32-64_diff-1')"
   ]
  },
  {
   "cell_type": "code",
   "execution_count": null,
   "metadata": {},
   "outputs": [
    {
     "data": {
      "application/vnd.jupyter.widget-view+json": {
       "model_id": "af2e50a296f94deb93e7ae35313863e7",
       "version_major": 2,
       "version_minor": 0
      },
      "text/plain": [
       "HBox(children=(IntProgress(value=0, description='Epoch', max=31), HTML(value='')))"
      ]
     },
     "metadata": {},
     "output_type": "display_data"
    },
    {
     "name": "stdout",
     "output_type": "stream",
     "text": [
      "  4%|██▌                                                                | 46/1200 [00:09<04:04,  4.72it/s, loss=0.0914]"
     ]
    }
   ],
   "source": [
    "lrs = 1e-2 * np.array([1/16, 1/4, 1])\n",
    "\n",
    "learn.fit(lrs, 5, cycle_len=1, cycle_mult=2)"
   ]
  },
  {
   "cell_type": "code",
   "execution_count": null,
   "metadata": {},
   "outputs": [],
   "source": [
    "learn.sched.plot_loss()"
   ]
  },
  {
   "cell_type": "code",
   "execution_count": null,
   "metadata": {},
   "outputs": [],
   "source": []
  }
 ],
 "metadata": {
  "kernelspec": {
   "display_name": "Python 3",
   "language": "python",
   "name": "python3"
  },
  "language_info": {
   "codemirror_mode": {
    "name": "ipython",
    "version": 3
   },
   "file_extension": ".py",
   "mimetype": "text/x-python",
   "name": "python",
   "nbconvert_exporter": "python",
   "pygments_lexer": "ipython3",
   "version": "3.6.5"
  },
  "toc": {
   "base_numbering": 1,
   "nav_menu": {},
   "number_sections": true,
   "sideBar": true,
   "skip_h1_title": false,
   "title_cell": "Table of Contents",
   "title_sidebar": "Contents",
   "toc_cell": false,
   "toc_position": {},
   "toc_section_display": true,
   "toc_window_display": false
  }
 },
 "nbformat": 4,
 "nbformat_minor": 2
}
