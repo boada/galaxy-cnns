{
 "cells": [
  {
   "cell_type": "markdown",
   "metadata": {},
   "source": [
    "# Random forest"
   ]
  },
  {
   "cell_type": "code",
   "execution_count": 6,
   "metadata": {},
   "outputs": [],
   "source": [
    "import matplotlib.pyplot as plt\n",
    "import os\n",
    "import numpy as np\n",
    "import pandas as pd\n",
    "import sklearn\n",
    "import sklearn.ensemble\n",
    "import sklearn_pandas\n",
    "\n",
    "import tpot\n",
    "\n",
    "%matplotlib inline\n",
    "\n",
    "PATH = os.path.abspath('..')\n",
    "\n",
    "%load_ext autoreload\n",
    "%autoreload 2"
   ]
  },
  {
   "cell_type": "code",
   "execution_count": 7,
   "metadata": {},
   "outputs": [
    {
     "name": "stdout",
     "output_type": "stream",
     "text": [
      "SDSSspecgalsDR14_boada.csv  test-metaldist.csv\ttrain-mass-metal.csv\r\n",
      "test-mass.csv\t\t    test-oh_p50.csv\ttrain-metaldist.csv\r\n",
      "test-mass-metal.csv\t    train-mass.csv\ttrain-oh_p50.csv\r\n"
     ]
    }
   ],
   "source": [
    "! ls ../catalogs/"
   ]
  },
  {
   "cell_type": "code",
   "execution_count": 8,
   "metadata": {},
   "outputs": [
    {
     "data": {
      "text/html": [
       "<div>\n",
       "<style scoped>\n",
       "    .dataframe tbody tr th:only-of-type {\n",
       "        vertical-align: middle;\n",
       "    }\n",
       "\n",
       "    .dataframe tbody tr th {\n",
       "        vertical-align: top;\n",
       "    }\n",
       "\n",
       "    .dataframe thead th {\n",
       "        text-align: right;\n",
       "    }\n",
       "</style>\n",
       "<table border=\"1\" class=\"dataframe\">\n",
       "  <thead>\n",
       "    <tr style=\"text-align: right;\">\n",
       "      <th></th>\n",
       "      <th>objID</th>\n",
       "      <th>specObjID</th>\n",
       "      <th>ra</th>\n",
       "      <th>dec</th>\n",
       "      <th>z</th>\n",
       "      <th>zErr</th>\n",
       "      <th>velDisp</th>\n",
       "      <th>velDispErr</th>\n",
       "      <th>modelMag_u</th>\n",
       "      <th>modelMagErr_u</th>\n",
       "      <th>...</th>\n",
       "      <th>d4000</th>\n",
       "      <th>d4000_err</th>\n",
       "      <th>bptclass</th>\n",
       "      <th>oh_p2p5</th>\n",
       "      <th>oh_p16</th>\n",
       "      <th>oh_p50</th>\n",
       "      <th>oh_p84</th>\n",
       "      <th>oh_p97p5</th>\n",
       "      <th>lgm_tot_p50</th>\n",
       "      <th>sfr_tot_p50</th>\n",
       "    </tr>\n",
       "  </thead>\n",
       "  <tbody>\n",
       "    <tr>\n",
       "      <th>0</th>\n",
       "      <td>1237648721751376083</td>\n",
       "      <td>534815957734942720</td>\n",
       "      <td>142.944222</td>\n",
       "      <td>0.339306</td>\n",
       "      <td>0.148051</td>\n",
       "      <td>0.000008</td>\n",
       "      <td>191.37130</td>\n",
       "      <td>29.119800</td>\n",
       "      <td>19.23619</td>\n",
       "      <td>0.030150</td>\n",
       "      <td>...</td>\n",
       "      <td>1.301792</td>\n",
       "      <td>0.015150</td>\n",
       "      <td>1</td>\n",
       "      <td>8.875947</td>\n",
       "      <td>8.935274</td>\n",
       "      <td>8.950057</td>\n",
       "      <td>8.978632</td>\n",
       "      <td>9.016094</td>\n",
       "      <td>10.290080</td>\n",
       "      <td>0.759519</td>\n",
       "    </tr>\n",
       "    <tr>\n",
       "      <th>1</th>\n",
       "      <td>1237648721220075713</td>\n",
       "      <td>306307479388579840</td>\n",
       "      <td>155.688647</td>\n",
       "      <td>-0.003088</td>\n",
       "      <td>0.062559</td>\n",
       "      <td>0.000008</td>\n",
       "      <td>90.07338</td>\n",
       "      <td>9.302679</td>\n",
       "      <td>18.08446</td>\n",
       "      <td>0.021406</td>\n",
       "      <td>...</td>\n",
       "      <td>1.356608</td>\n",
       "      <td>0.015810</td>\n",
       "      <td>1</td>\n",
       "      <td>9.007464</td>\n",
       "      <td>9.045025</td>\n",
       "      <td>9.082232</td>\n",
       "      <td>9.094326</td>\n",
       "      <td>9.099128</td>\n",
       "      <td>10.504520</td>\n",
       "      <td>0.340369</td>\n",
       "    </tr>\n",
       "    <tr>\n",
       "      <th>2</th>\n",
       "      <td>1237648705657962690</td>\n",
       "      <td>333377181507938304</td>\n",
       "      <td>199.753695</td>\n",
       "      <td>0.996691</td>\n",
       "      <td>0.054072</td>\n",
       "      <td>0.000007</td>\n",
       "      <td>54.84515</td>\n",
       "      <td>14.221800</td>\n",
       "      <td>17.96100</td>\n",
       "      <td>0.024077</td>\n",
       "      <td>...</td>\n",
       "      <td>1.346449</td>\n",
       "      <td>0.017711</td>\n",
       "      <td>1</td>\n",
       "      <td>8.722798</td>\n",
       "      <td>8.786467</td>\n",
       "      <td>8.810163</td>\n",
       "      <td>8.844212</td>\n",
       "      <td>8.874462</td>\n",
       "      <td>9.975035</td>\n",
       "      <td>0.195038</td>\n",
       "    </tr>\n",
       "    <tr>\n",
       "      <th>3</th>\n",
       "      <td>1237648705657438484</td>\n",
       "      <td>332284266966706176</td>\n",
       "      <td>198.540462</td>\n",
       "      <td>0.921618</td>\n",
       "      <td>0.029709</td>\n",
       "      <td>0.000006</td>\n",
       "      <td>780.97020</td>\n",
       "      <td>195.471100</td>\n",
       "      <td>18.75527</td>\n",
       "      <td>0.047067</td>\n",
       "      <td>...</td>\n",
       "      <td>1.268220</td>\n",
       "      <td>0.067678</td>\n",
       "      <td>1</td>\n",
       "      <td>8.084666</td>\n",
       "      <td>8.193955</td>\n",
       "      <td>8.333026</td>\n",
       "      <td>8.470915</td>\n",
       "      <td>8.565473</td>\n",
       "      <td>8.454908</td>\n",
       "      <td>-0.573657</td>\n",
       "    </tr>\n",
       "    <tr>\n",
       "      <th>4</th>\n",
       "      <td>1237648705657438478</td>\n",
       "      <td>332285091600427008</td>\n",
       "      <td>198.534274</td>\n",
       "      <td>0.937417</td>\n",
       "      <td>0.029789</td>\n",
       "      <td>0.000009</td>\n",
       "      <td>0.00000</td>\n",
       "      <td>63.073320</td>\n",
       "      <td>19.13474</td>\n",
       "      <td>0.049963</td>\n",
       "      <td>...</td>\n",
       "      <td>1.282506</td>\n",
       "      <td>0.041716</td>\n",
       "      <td>1</td>\n",
       "      <td>8.161867</td>\n",
       "      <td>8.271518</td>\n",
       "      <td>8.416960</td>\n",
       "      <td>8.538336</td>\n",
       "      <td>8.603781</td>\n",
       "      <td>8.713576</td>\n",
       "      <td>-0.747333</td>\n",
       "    </tr>\n",
       "  </tbody>\n",
       "</table>\n",
       "<p>5 rows × 40 columns</p>\n",
       "</div>"
      ],
      "text/plain": [
       "                 objID           specObjID          ra       dec         z  \\\n",
       "0  1237648721751376083  534815957734942720  142.944222  0.339306  0.148051   \n",
       "1  1237648721220075713  306307479388579840  155.688647 -0.003088  0.062559   \n",
       "2  1237648705657962690  333377181507938304  199.753695  0.996691  0.054072   \n",
       "3  1237648705657438484  332284266966706176  198.540462  0.921618  0.029709   \n",
       "4  1237648705657438478  332285091600427008  198.534274  0.937417  0.029789   \n",
       "\n",
       "       zErr    velDisp  velDispErr  modelMag_u  modelMagErr_u     ...       \\\n",
       "0  0.000008  191.37130   29.119800    19.23619       0.030150     ...        \n",
       "1  0.000008   90.07338    9.302679    18.08446       0.021406     ...        \n",
       "2  0.000007   54.84515   14.221800    17.96100       0.024077     ...        \n",
       "3  0.000006  780.97020  195.471100    18.75527       0.047067     ...        \n",
       "4  0.000009    0.00000   63.073320    19.13474       0.049963     ...        \n",
       "\n",
       "      d4000  d4000_err  bptclass   oh_p2p5    oh_p16    oh_p50    oh_p84  \\\n",
       "0  1.301792   0.015150         1  8.875947  8.935274  8.950057  8.978632   \n",
       "1  1.356608   0.015810         1  9.007464  9.045025  9.082232  9.094326   \n",
       "2  1.346449   0.017711         1  8.722798  8.786467  8.810163  8.844212   \n",
       "3  1.268220   0.067678         1  8.084666  8.193955  8.333026  8.470915   \n",
       "4  1.282506   0.041716         1  8.161867  8.271518  8.416960  8.538336   \n",
       "\n",
       "   oh_p97p5  lgm_tot_p50  sfr_tot_p50  \n",
       "0  9.016094    10.290080     0.759519  \n",
       "1  9.099128    10.504520     0.340369  \n",
       "2  8.874462     9.975035     0.195038  \n",
       "3  8.565473     8.454908    -0.573657  \n",
       "4  8.603781     8.713576    -0.747333  \n",
       "\n",
       "[5 rows x 40 columns]"
      ]
     },
     "execution_count": 8,
     "metadata": {},
     "output_type": "execute_result"
    }
   ],
   "source": [
    "df = pd.read_csv(f'{PATH}/catalogs/SDSSspecgalsDR14_boada.csv')\n",
    "df.head()"
   ]
  },
  {
   "cell_type": "code",
   "execution_count": 9,
   "metadata": {},
   "outputs": [
    {
     "data": {
      "text/plain": [
       "Index(['objID', 'specObjID', 'ra', 'dec', 'z', 'zErr', 'velDisp', 'velDispErr',\n",
       "       'modelMag_u', 'modelMagErr_u', 'modelMag_g', 'modelMagErr_g',\n",
       "       'modelMag_r', 'modelMagErr_r', 'modelMag_i', 'modelMagErr_i',\n",
       "       'modelMag_z', 'modelMagErr_z', 'petroR50_r', 'petroR90_r',\n",
       "       'nii_6584_flux', 'nii_6584_flux_err', 'h_alpha_flux',\n",
       "       'h_alpha_flux_err', 'oiii_5007_flux', 'oiii_5007_flux_err',\n",
       "       'h_beta_flux', 'h_beta_flux_err', 'h_delta_flux', 'h_delta_flux_err',\n",
       "       'd4000', 'd4000_err', 'bptclass', 'oh_p2p5', 'oh_p16', 'oh_p50',\n",
       "       'oh_p84', 'oh_p97p5', 'lgm_tot_p50', 'sfr_tot_p50'],\n",
       "      dtype='object')"
      ]
     },
     "execution_count": 9,
     "metadata": {},
     "output_type": "execute_result"
    }
   ],
   "source": [
    "df.columns"
   ]
  },
  {
   "cell_type": "code",
   "execution_count": 10,
   "metadata": {},
   "outputs": [],
   "source": [
    "columns_of_interest = ['modelMag_g', 'modelMag_r', 'modelMag_i', 'oh_p50', 'lgm_tot_p50']\n",
    "df = df.loc[:, columns_of_interest]\n",
    "\n",
    "# cut out bad values\n",
    "df = df[df.lgm_tot_p50 > 0].copy()"
   ]
  },
  {
   "cell_type": "code",
   "execution_count": 11,
   "metadata": {},
   "outputs": [],
   "source": [
    "X = df[['modelMag_g', 'modelMag_r', 'modelMag_i']]\n",
    "y = df[['oh_p50', 'lgm_tot_p50']]\n",
    "\n",
    "X_train, X_test, y_train, y_test = sklearn.model_selection.train_test_split(X, y, test_size=0.2, random_state=256)"
   ]
  },
  {
   "cell_type": "code",
   "execution_count": 12,
   "metadata": {},
   "outputs": [
    {
     "data": {
      "text/plain": [
       "RandomForestRegressor(bootstrap=True, criterion='mse', max_depth=None,\n",
       "           max_features='auto', max_leaf_nodes=None,\n",
       "           min_impurity_decrease=0.0, min_impurity_split=None,\n",
       "           min_samples_leaf=1, min_samples_split=2,\n",
       "           min_weight_fraction_leaf=0.0, n_estimators=10, n_jobs=1,\n",
       "           oob_score=False, random_state=None, verbose=0, warm_start=False)"
      ]
     },
     "execution_count": 12,
     "metadata": {},
     "output_type": "execute_result"
    }
   ],
   "source": [
    "reg = sklearn.ensemble.RandomForestRegressor(criterion='mse')\n",
    "\n",
    "reg.fit(X_train, y_train)"
   ]
  },
  {
   "cell_type": "code",
   "execution_count": 25,
   "metadata": {},
   "outputs": [
    {
     "data": {
      "text/plain": [
       "0.6376777774743093"
      ]
     },
     "execution_count": 25,
     "metadata": {},
     "output_type": "execute_result"
    }
   ],
   "source": [
    "p = reg.predict(X_test)\n",
    "\n",
    "# R^2 score\n",
    "reg.score(X_test, y_test)"
   ]
  },
  {
   "cell_type": "code",
   "execution_count": 14,
   "metadata": {},
   "outputs": [],
   "source": [
    "def rmse(y1, y2): return np.sqrt(np.mean((y1 - y2)**2, axis=0))"
   ]
  },
  {
   "cell_type": "code",
   "execution_count": 15,
   "metadata": {},
   "outputs": [
    {
     "data": {
      "text/plain": [
       "oh_p50         0.135374\n",
       "lgm_tot_p50    0.330786\n",
       "dtype: float64"
      ]
     },
     "execution_count": 15,
     "metadata": {},
     "output_type": "execute_result"
    }
   ],
   "source": [
    "rmse(p, y_test)"
   ]
  },
  {
   "cell_type": "code",
   "execution_count": 16,
   "metadata": {},
   "outputs": [
    {
     "data": {
      "text/plain": [
       "<matplotlib.legend.Legend at 0x7fa6980a48d0>"
      ]
     },
     "execution_count": 16,
     "metadata": {},
     "output_type": "execute_result"
    },
    {
     "data": {
      "image/png": "[encoded data removed]",
      "text/plain": [
       "<Figure size 432x288 with 1 Axes>"
      ]
     },
     "metadata": {},
     "output_type": "display_data"
    }
   ],
   "source": [
    "for i in range(2):\n",
    "    plt.hist(p[:, i] - y_test.values[:, i], bins=100, range=[-1, 1], histtype='step')\n",
    "plt.xlim(-.8, .8)\n",
    "plt.legend(['[O/H] p50', 'M_*'])"
   ]
  },
  {
   "cell_type": "markdown",
   "metadata": {},
   "source": [
    "# TPOT\n",
    "\n",
    "[TPOT](https://github.com/EpistasisLab/tpot) is a nice genetic automated machine learning tool that builds off `sklearn`. Let's see if we can do better than the Vanilla random forest and compare to our best resnet predictions..."
   ]
  },
  {
   "cell_type": "code",
   "execution_count": 17,
   "metadata": {},
   "outputs": [],
   "source": [
    "from tpot import TPOTRegressor"
   ]
  },
  {
   "cell_type": "code",
   "execution_count": 54,
   "metadata": {},
   "outputs": [],
   "source": [
    "tpot = TPOTRegressor(generations=5, population_size=20, verbosity=2, n_jobs=4, random_state=256)"
   ]
  },
  {
   "cell_type": "markdown",
   "metadata": {},
   "source": [
    "It can only predit 1-d arrays, so let's choose metallicity. \n",
    "\n",
    "Note that the output is the negative mean squared error, where $RMSE=0.135 \\rightarrow -0.182$ (decision forest) and $RMSE = 0.083 \\rightarrow -0.0069$ (resnet)"
   ]
  },
  {
   "cell_type": "code",
   "execution_count": null,
   "metadata": {
    "scrolled": true
   },
   "outputs": [
    {
     "name": "stderr",
     "output_type": "stream",
     "text": [
      "Optimization Progress:  17%|█▋        | 20/120 [00:58<20:34, 12.34s/pipeline]"
     ]
    }
   ],
   "source": [
    "tpot.fit(X_train.values, y_train.oh_p50.values)\n",
    "print(tpot.score(X_test, y_test.oh_p50.values))\n"
   ]
  },
  {
   "cell_type": "code",
   "execution_count": null,
   "metadata": {},
   "outputs": [],
   "source": [
    "tpot.export('tpot_metallicity_pipeline.py')"
   ]
  },
  {
   "cell_type": "code",
   "execution_count": null,
   "metadata": {},
   "outputs": [],
   "source": [
    "p_tpot = tpot.predict(X_test)"
   ]
  },
  {
   "cell_type": "code",
   "execution_count": null,
   "metadata": {},
   "outputs": [],
   "source": [
    "plt.hist(p[:, 0] - y_test.values[:, 0], bins=100, range=[-1, 1], histtype='step', label='Random Forest')\n",
    "plt.hist(p_tpot - y_test.oh_p50.values, bins=100, range=[-1, 1], histtype='step', label='TPOT')\n",
    "plt.axvline(0)\n",
    "plt.xlim(-.8, .8)\n",
    "plt.legend();"
   ]
  },
  {
   "cell_type": "markdown",
   "metadata": {},
   "source": [
    "# XGBoost\n",
    "\n",
    "XGBoost became super popular in 2015 [all](http://blog.kaggle.com/2015/12/21/rossmann-store-sales-winners-interview-1st-place-gert/) [over](https://no2147483647.wordpress.com/2014/09/17/winning-solution-of-kaggle-higgs-competition-what-a-single-model-can-do/) [Kaggle](https://github.com/daxiongshu/tradeshift-text-classification) [.](http://blog.kaggle.com/2015/12/03/dato-winners-interview-1st-place-mad-professors/) It builds on the idea of [gradient boosting](https://en.wikipedia.org/wiki/Gradient_boosting)."
   ]
  },
  {
   "cell_type": "code",
   "execution_count": 43,
   "metadata": {},
   "outputs": [],
   "source": [
    "import xgboost"
   ]
  },
  {
   "cell_type": "code",
   "execution_count": 46,
   "metadata": {},
   "outputs": [
    {
     "ename": "XGBoostError",
     "evalue": "b'[16:48:25] src/io/local_filesys.cc:199: Check failed: allow_null  LocalFileSystem::Open \"/home/jw740/projects/galaxy-cnns/tmp/metal_xgboost.model\": No such file or directory\\n\\nStack trace returned 10 entries:\\n[bt] (0) /home/jw740/anaconda3/envs/fastai/lib/python3.6/site-packages/xgboost/./lib/libxgboost.so(dmlc::StackTrace[abi:cxx11]()+0x56) [0x7fa619a4e1b6]\\n[bt] (1) /home/jw740/anaconda3/envs/fastai/lib/python3.6/site-packages/xgboost/./lib/libxgboost.so(dmlc::io::LocalFileSystem::Open(dmlc::io::URI const&, char const*, bool)+0x63a) [0x7fa619c2f2da]\\n[bt] (2) /home/jw740/anaconda3/envs/fastai/lib/python3.6/site-packages/xgboost/./lib/libxgboost.so(dmlc::Stream::Create(char const*, char const*, bool)+0x166) [0x7fa619c21386]\\n[bt] (3) /home/jw740/anaconda3/envs/fastai/lib/python3.6/site-packages/xgboost/./lib/libxgboost.so(XGBoosterLoadModel+0x18) [0x7fa619c02818]\\n[bt] (4) /home/jw740/anaconda3/envs/fastai/lib/python3.6/lib-dynload/_ctypes.cpython-36m-x86_64-linux-gnu.so(ffi_call_unix64+0x4c) [0x7fa6e11f5c9c]\\n[bt] (5) /home/jw740/anaconda3/envs/fastai/lib/python3.6/lib-dynload/_ctypes.cpython-36m-x86_64-linux-gnu.so(ffi_call+0x165) [0x7fa6e11f4de5]\\n[bt] (6) /home/jw740/anaconda3/envs/fastai/lib/python3.6/lib-dynload/_ctypes.cpython-36m-x86_64-linux-gnu.so(_ctypes_callproc+0x283) [0x7fa6e11ed183]\\n[bt] (7) /home/jw740/anaconda3/envs/fastai/lib/python3.6/lib-dynload/_ctypes.cpython-36m-x86_64-linux-gnu.so(+0x985f) [0x7fa6e11e485f]\\n[bt] (8) /home/jw740/anaconda3/envs/fastai/bin/../lib/libpython3.6m.so.1.0(_PyObject_FastCallDict+0x8b) [0x7fa6e77209cb]\\n[bt] (9) /home/jw740/anaconda3/envs/fastai/bin/../lib/libpython3.6m.so.1.0(+0x165188) [0x7fa6e7813188]\\n\\n'",
     "output_type": "error",
     "traceback": [
      "\u001b[0;31m---------------------------------------------------------------------------\u001b[0m",
      "\u001b[0;31mXGBoostError\u001b[0m                              Traceback (most recent call last)",
      "\u001b[0;32m<ipython-input-46-6433289b7a70>\u001b[0m in \u001b[0;36m<module>\u001b[0;34m()\u001b[0m\n\u001b[1;32m      1\u001b[0m \u001b[0mxg_data\u001b[0m \u001b[0;34m=\u001b[0m \u001b[0mxgboost\u001b[0m\u001b[0;34m.\u001b[0m\u001b[0mDMatrix\u001b[0m\u001b[0;34m(\u001b[0m\u001b[0mX_train\u001b[0m\u001b[0;34m.\u001b[0m\u001b[0mvalues\u001b[0m\u001b[0;34m)\u001b[0m\u001b[0;34m\u001b[0m\u001b[0m\n\u001b[0;32m----> 2\u001b[0;31m \u001b[0mbooster\u001b[0m \u001b[0;34m=\u001b[0m \u001b[0mxgboost\u001b[0m\u001b[0;34m.\u001b[0m\u001b[0mBooster\u001b[0m\u001b[0;34m(\u001b[0m\u001b[0;34m{\u001b[0m\u001b[0;34m'nthread'\u001b[0m\u001b[0;34m:\u001b[0m\u001b[0;36m4\u001b[0m\u001b[0;34m}\u001b[0m\u001b[0;34m,\u001b[0m \u001b[0mmodel_file\u001b[0m \u001b[0;34m=\u001b[0m \u001b[0;34mf'{PATH}/tmp/metal_xgboost.model'\u001b[0m\u001b[0;34m)\u001b[0m\u001b[0;34m\u001b[0m\u001b[0m\n\u001b[0m",
      "\u001b[0;32m~/anaconda3/envs/fastai/lib/python3.6/site-packages/xgboost/core.py\u001b[0m in \u001b[0;36m__init__\u001b[0;34m(self, params, cache, model_file)\u001b[0m\n\u001b[1;32m    736\u001b[0m         \u001b[0mself\u001b[0m\u001b[0;34m.\u001b[0m\u001b[0mset_param\u001b[0m\u001b[0;34m(\u001b[0m\u001b[0mparams\u001b[0m \u001b[0;32mor\u001b[0m \u001b[0;34m{\u001b[0m\u001b[0;34m}\u001b[0m\u001b[0;34m)\u001b[0m\u001b[0;34m\u001b[0m\u001b[0m\n\u001b[1;32m    737\u001b[0m         \u001b[0;32mif\u001b[0m \u001b[0mmodel_file\u001b[0m \u001b[0;32mis\u001b[0m \u001b[0;32mnot\u001b[0m \u001b[0;32mNone\u001b[0m\u001b[0;34m:\u001b[0m\u001b[0;34m\u001b[0m\u001b[0m\n\u001b[0;32m--> 738\u001b[0;31m             \u001b[0mself\u001b[0m\u001b[0;34m.\u001b[0m\u001b[0mload_model\u001b[0m\u001b[0;34m(\u001b[0m\u001b[0mmodel_file\u001b[0m\u001b[0;34m)\u001b[0m\u001b[0;34m\u001b[0m\u001b[0m\n\u001b[0m\u001b[1;32m    739\u001b[0m \u001b[0;34m\u001b[0m\u001b[0m\n\u001b[1;32m    740\u001b[0m     \u001b[0;32mdef\u001b[0m \u001b[0m__del__\u001b[0m\u001b[0;34m(\u001b[0m\u001b[0mself\u001b[0m\u001b[0;34m)\u001b[0m\u001b[0;34m:\u001b[0m\u001b[0;34m\u001b[0m\u001b[0m\n",
      "\u001b[0;32m~/anaconda3/envs/fastai/lib/python3.6/site-packages/xgboost/core.py\u001b[0m in \u001b[0;36mload_model\u001b[0;34m(self, fname)\u001b[0m\n\u001b[1;32m   1125\u001b[0m         \u001b[0;32mif\u001b[0m \u001b[0misinstance\u001b[0m\u001b[0;34m(\u001b[0m\u001b[0mfname\u001b[0m\u001b[0;34m,\u001b[0m \u001b[0mSTRING_TYPES\u001b[0m\u001b[0;34m)\u001b[0m\u001b[0;34m:\u001b[0m\u001b[0;34m\u001b[0m\u001b[0m\n\u001b[1;32m   1126\u001b[0m             \u001b[0;31m# assume file name, cannot use os.path.exist to check, file can be from URL.\u001b[0m\u001b[0;34m\u001b[0m\u001b[0;34m\u001b[0m\u001b[0m\n\u001b[0;32m-> 1127\u001b[0;31m             \u001b[0m_check_call\u001b[0m\u001b[0;34m(\u001b[0m\u001b[0m_LIB\u001b[0m\u001b[0;34m.\u001b[0m\u001b[0mXGBoosterLoadModel\u001b[0m\u001b[0;34m(\u001b[0m\u001b[0mself\u001b[0m\u001b[0;34m.\u001b[0m\u001b[0mhandle\u001b[0m\u001b[0;34m,\u001b[0m \u001b[0mc_str\u001b[0m\u001b[0;34m(\u001b[0m\u001b[0mfname\u001b[0m\u001b[0;34m)\u001b[0m\u001b[0;34m)\u001b[0m\u001b[0;34m)\u001b[0m\u001b[0;34m\u001b[0m\u001b[0m\n\u001b[0m\u001b[1;32m   1128\u001b[0m         \u001b[0;32melse\u001b[0m\u001b[0;34m:\u001b[0m\u001b[0;34m\u001b[0m\u001b[0m\n\u001b[1;32m   1129\u001b[0m             \u001b[0mbuf\u001b[0m \u001b[0;34m=\u001b[0m \u001b[0mfname\u001b[0m\u001b[0;34m\u001b[0m\u001b[0m\n",
      "\u001b[0;32m~/anaconda3/envs/fastai/lib/python3.6/site-packages/xgboost/core.py\u001b[0m in \u001b[0;36m_check_call\u001b[0;34m(ret)\u001b[0m\n\u001b[1;32m    128\u001b[0m     \"\"\"\n\u001b[1;32m    129\u001b[0m     \u001b[0;32mif\u001b[0m \u001b[0mret\u001b[0m \u001b[0;34m!=\u001b[0m \u001b[0;36m0\u001b[0m\u001b[0;34m:\u001b[0m\u001b[0;34m\u001b[0m\u001b[0m\n\u001b[0;32m--> 130\u001b[0;31m         \u001b[0;32mraise\u001b[0m \u001b[0mXGBoostError\u001b[0m\u001b[0;34m(\u001b[0m\u001b[0m_LIB\u001b[0m\u001b[0;34m.\u001b[0m\u001b[0mXGBGetLastError\u001b[0m\u001b[0;34m(\u001b[0m\u001b[0;34m)\u001b[0m\u001b[0;34m)\u001b[0m\u001b[0;34m\u001b[0m\u001b[0m\n\u001b[0m\u001b[1;32m    131\u001b[0m \u001b[0;34m\u001b[0m\u001b[0m\n\u001b[1;32m    132\u001b[0m \u001b[0;34m\u001b[0m\u001b[0m\n",
      "\u001b[0;31mXGBoostError\u001b[0m: b'[16:48:25] src/io/local_filesys.cc:199: Check failed: allow_null  LocalFileSystem::Open \"/home/jw740/projects/galaxy-cnns/tmp/metal_xgboost.model\": No such file or directory\\n\\nStack trace returned 10 entries:\\n[bt] (0) /home/jw740/anaconda3/envs/fastai/lib/python3.6/site-packages/xgboost/./lib/libxgboost.so(dmlc::StackTrace[abi:cxx11]()+0x56) [0x7fa619a4e1b6]\\n[bt] (1) /home/jw740/anaconda3/envs/fastai/lib/python3.6/site-packages/xgboost/./lib/libxgboost.so(dmlc::io::LocalFileSystem::Open(dmlc::io::URI const&, char const*, bool)+0x63a) [0x7fa619c2f2da]\\n[bt] (2) /home/jw740/anaconda3/envs/fastai/lib/python3.6/site-packages/xgboost/./lib/libxgboost.so(dmlc::Stream::Create(char const*, char const*, bool)+0x166) [0x7fa619c21386]\\n[bt] (3) /home/jw740/anaconda3/envs/fastai/lib/python3.6/site-packages/xgboost/./lib/libxgboost.so(XGBoosterLoadModel+0x18) [0x7fa619c02818]\\n[bt] (4) /home/jw740/anaconda3/envs/fastai/lib/python3.6/lib-dynload/_ctypes.cpython-36m-x86_64-linux-gnu.so(ffi_call_unix64+0x4c) [0x7fa6e11f5c9c]\\n[bt] (5) /home/jw740/anaconda3/envs/fastai/lib/python3.6/lib-dynload/_ctypes.cpython-36m-x86_64-linux-gnu.so(ffi_call+0x165) [0x7fa6e11f4de5]\\n[bt] (6) /home/jw740/anaconda3/envs/fastai/lib/python3.6/lib-dynload/_ctypes.cpython-36m-x86_64-linux-gnu.so(_ctypes_callproc+0x283) [0x7fa6e11ed183]\\n[bt] (7) /home/jw740/anaconda3/envs/fastai/lib/python3.6/lib-dynload/_ctypes.cpython-36m-x86_64-linux-gnu.so(+0x985f) [0x7fa6e11e485f]\\n[bt] (8) /home/jw740/anaconda3/envs/fastai/bin/../lib/libpython3.6m.so.1.0(_PyObject_FastCallDict+0x8b) [0x7fa6e77209cb]\\n[bt] (9) /home/jw740/anaconda3/envs/fastai/bin/../lib/libpython3.6m.so.1.0(+0x165188) [0x7fa6e7813188]\\n\\n'"
     ]
    }
   ],
   "source": [
    "xg_data = xgboost.DMatrix(X_train.values)\n",
    "booster = xgboost.Booster({'nthread':4}, model_file = f'{PATH}/tmp/metal_xgboost.model')"
   ]
  },
  {
   "cell_type": "code",
   "execution_count": null,
   "metadata": {},
   "outputs": [],
   "source": []
  }
 ],
 "metadata": {
  "kernelspec": {
   "display_name": "Python [conda env:fastai]",
   "language": "python",
   "name": "conda-env-fastai-py"
  },
  "language_info": {
   "codemirror_mode": {
    "name": "ipython",
    "version": 3
   },
   "file_extension": ".py",
   "mimetype": "text/x-python",
   "name": "python",
   "nbconvert_exporter": "python",
   "pygments_lexer": "ipython3",
   "version": "3.6.5"
  },
  "toc": {
   "base_numbering": 1,
   "nav_menu": {},
   "number_sections": true,
   "sideBar": true,
   "skip_h1_title": false,
   "title_cell": "Table of Contents",
   "title_sidebar": "Contents",
   "toc_cell": false,
   "toc_position": {},
   "toc_section_display": true,
   "toc_window_display": false
  }
 },
 "nbformat": 4,
 "nbformat_minor": 2
}
