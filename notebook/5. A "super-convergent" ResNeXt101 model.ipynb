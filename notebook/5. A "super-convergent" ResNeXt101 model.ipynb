{
 "cells": [
  {
   "cell_type": "markdown",
   "metadata": {},
   "source": [
    "# Overview"
   ]
  },
  {
   "cell_type": "markdown",
   "metadata": {},
   "source": [
    "## Literally the same as the previous notebook...\n",
    "Again, we are trying to predict metallicity using RGB images from SDSS spectroscopic and photometric observations, respectively. I'm going to use Leslie Smith's idea of [first increasing and then decreasing the learning rate](https://arxiv.org/abs/1708.07120), which is becoming popularized by [fast.ai](http://forums.fast.ai/t/the-1cycle-policy-an-experiment-that-investigate-super-convergence-phenomenon-described-in-leslie-smiths-research/14737) and [Sylvain Gugger](https://sgugger.github.io/the-1cycle-policy.html). \n",
    "\n",
    "Here's an example of what to do with the learning rate + momentum:\n",
    "\n",
    "![](data:image/png;base64,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%0A)"
   ]
  },
  {
   "cell_type": "markdown",
   "metadata": {},
   "source": [
    "# Imports and other necessary functions"
   ]
  },
  {
   "cell_type": "code",
   "execution_count": 1,
   "metadata": {},
   "outputs": [],
   "source": [
    "%reload_ext autoreload\n",
    "%autoreload 2\n",
    "%matplotlib inline\n",
    "\n",
    "from fastai.imports import *\n",
    "from fastai.transforms import *\n",
    "from fastai.conv_learner import *\n",
    "from fastai.model import *\n",
    "from fastai.dataset import *\n",
    "from fastai.sgdr import *\n",
    "from fastai.plots import *\n",
    "\n",
    "import torch \n",
    "\n",
    "from IPython.display import display\n"
   ]
  },
  {
   "cell_type": "code",
   "execution_count": 2,
   "metadata": {},
   "outputs": [],
   "source": [
    "PATH = os.path.abspath('..')"
   ]
  },
  {
   "cell_type": "code",
   "execution_count": 5,
   "metadata": {},
   "outputs": [],
   "source": [
    "torch.cuda.set_device(1)"
   ]
  },
  {
   "cell_type": "code",
   "execution_count": 3,
   "metadata": {},
   "outputs": [],
   "source": [
    "def parse_csv_multi_class_values(path_to_csv):\n",
    "    \"\"\"Parse filenames and values for classes from a CSV file.\n",
    "\n",
    "    This method expects that the csv file at path :fn: has one column for filenames,\n",
    "    while all the other columns represent classes.\n",
    "    Expects a header with class names\n",
    "\n",
    "    Arguments:\n",
    "        path_to_csv: Path to a CSV file.\n",
    "\n",
    "    Returns:\n",
    "        a three-tuple of:            \n",
    "            a list of filenames\n",
    "            a list of values in the same order\n",
    "            a dictionary of classes by classIndex           \n",
    "    \"\"\"\n",
    "    with open(path_to_csv) as fileobj:\n",
    "        reader = csv.reader(fileobj)\n",
    "        header = next(reader)\n",
    "        csv_lines = [l for l in reader]\n",
    "\n",
    "    fnames = [fname for fname, *_ in csv_lines]\n",
    "    classes = header[1:]\n",
    "    values = [vals for _, *vals in csv_lines]\n",
    "    idx2class = {i:c for i, c in enumerate(classes)}\n",
    "   \n",
    "    return fnames, values, idx2class\n",
    "\n",
    "def csv_source_multi_class(folder, csv_file, suffix=''):\n",
    "    fnames, values, idx2class = parse_csv_multi_class_values(csv_file)\n",
    "    full_names = [os.path.join(folder,fn+suffix) for fn in fnames]\n",
    "   \n",
    "    val_arr = np.array(values).astype(np.float32)\n",
    "    \n",
    "    return full_names, val_arr, idx2class\n",
    "\n",
    "@classmethod\n",
    "def from_multiclass_csv(cls, path, folder, csv_fname, bs=64, tfms=(None,None),\n",
    "           val_idxs=None, suffix='', test_name=None, num_workers=8):\n",
    "    \"\"\" Read in images and their labels given as a CSV file.\n",
    "--\n",
    "    This method should be used when training image labels are given in an CSV file as opposed to\n",
    "    sub-directories with label names.\n",
    "\n",
    "    Arguments:\n",
    "        path: a root path of the data (used for storing trained models, precomputed values, etc)\n",
    "        folder: a name of the folder in which training images are contained.\n",
    "        csv_fname: a name of the CSV file which contains target labels.\n",
    "        bs: batch size\n",
    "        tfms: transformations (for data augmentations). e.g. output of `tfms_from_model`\n",
    "        val_idxs: index of images to be used for validation. e.g. output of `get_cv_idxs`.\n",
    "            If None, default arguments to get_cv_idxs are used.\n",
    "        suffix: suffix to add to image names in CSV file (sometimes CSV only contains the file name without file\n",
    "                extension e.g. '.jpg' - in which case, you can set suffix as '.jpg')\n",
    "        test_name: a name of the folder which contains test images.\n",
    "        skip_header: skip the first row of the CSV file.\n",
    "        num_workers: number of workers\n",
    "\n",
    "    Returns:\n",
    "        ImageClassifierData\n",
    "    \"\"\"\n",
    "    fnames,y,idx2class = csv_source_multi_class(folder, csv_fname, suffix)\n",
    "\n",
    "    val_idxs = get_cv_idxs(len(fnames)) if val_idxs is None else val_idxs\n",
    "    ((val_fnames,trn_fnames),(val_y,trn_y)) = split_by_idx(val_idxs, np.array(fnames), y)\n",
    "\n",
    "    test_fnames = read_dir(path, test_name) if test_name else None\n",
    "    \n",
    "    f = FilesIndexArrayRegressionDataset\n",
    "    datasets = cls.get_ds(f, (trn_fnames,trn_y), (val_fnames,val_y), tfms,\n",
    "                           path=path, test=test_fnames)\n",
    "    return cls(path, datasets, bs, num_workers, classes=list(idx2class.values()))\n",
    "\n",
    "ImageClassifierData.from_multiclass_csv = from_multiclass_csv"
   ]
  },
  {
   "cell_type": "markdown",
   "metadata": {},
   "source": [
    "# Set up the network, metric, and data"
   ]
  },
  {
   "cell_type": "code",
   "execution_count": 4,
   "metadata": {},
   "outputs": [],
   "source": [
    "train_label_csv = f'{PATH}/catalogs/train-metaldist.csv'\n",
    "df = pd.read_csv(train_label_csv, index_col=0)\n",
    "\n",
    "n = len(df)\n",
    "\n",
    "# test-val split\n",
    "val_idxs = get_cv_idxs(n)"
   ]
  },
  {
   "cell_type": "markdown",
   "metadata": {},
   "source": [
    "## Use half-size images"
   ]
  },
  {
   "cell_type": "code",
   "execution_count": 6,
   "metadata": {},
   "outputs": [],
   "source": [
    "sz = 64\n",
    "bs = 64\n",
    "arch = resnext101_64\n",
    "\n",
    "def get_data(sz, bs):\n",
    "    tfms = tfms_from_model(arch, sz, aug_tfms=transforms_top_down, max_zoom=1.5)\n",
    "    return ImageClassifierData.from_multiclass_csv(PATH, 'images', train_label_csv, tfms=tfms,\n",
    "                    suffix='.jpg', val_idxs=val_idxs, test_name='test', num_workers=8)"
   ]
  },
  {
   "cell_type": "code",
   "execution_count": 7,
   "metadata": {
    "scrolled": true
   },
   "outputs": [],
   "source": [
    "data = get_data(sz, bs)\n",
    "learn = ConvLearner.pretrained(arch, data)"
   ]
  },
  {
   "cell_type": "code",
   "execution_count": 8,
   "metadata": {},
   "outputs": [],
   "source": [
    "def rmse(x, y):\n",
    "    return torch.sqrt(F.mse_loss(x,y))\n",
    "\n",
    "metrics = [rmse]\n",
    "learn.crit = rmse"
   ]
  },
  {
   "cell_type": "code",
   "execution_count": 9,
   "metadata": {},
   "outputs": [
    {
     "data": {
      "application/vnd.jupyter.widget-view+json": {
       "model_id": "812fb535fe0e4b0ca5ed6cec973f5229",
       "version_major": 2,
       "version_minor": 0
      },
      "text/plain": [
       "HBox(children=(IntProgress(value=0, description='Epoch', max=1), HTML(value='')))"
      ]
     },
     "metadata": {},
     "output_type": "display_data"
    },
    {
     "name": "stdout",
     "output_type": "stream",
     "text": [
      " 88%|████████▊ | 1056/1200 [02:06<00:17,  8.35it/s, loss=2.25] "
     ]
    },
    {
     "data": {
      "image/png": "[encoded data removed]",
      "text/plain": [
       "<Figure size 432x288 with 1 Axes>"
      ]
     },
     "metadata": {},
     "output_type": "display_data"
    }
   ],
   "source": [
    "learn.lr_find()\n",
    "learn.sched.plot()"
   ]
  },
  {
   "cell_type": "markdown",
   "metadata": {},
   "source": [
    "# Training time"
   ]
  },
  {
   "cell_type": "markdown",
   "metadata": {},
   "source": [
    "Okay, so remember here that the goal is to settle into a broader well *over a number of epochs* rather than to get wedged into a local minimum near by the starting point. This is the goal of SGDR (stochastic gradient descent with restarts) as well, except here we aren't even going to explore the narrow and steep local minima. The fact that we are increasing our learning rate for so long means that we are constantly trying to avoid overfitting."
   ]
  },
  {
   "cell_type": "code",
   "execution_count": 10,
   "metadata": {},
   "outputs": [],
   "source": [
    "lr = 0.15           # maximum lr\n",
    "lr_factor = 10      # minimum lr = lr/lr_factor\n",
    "lr_anneal_pct = 10. # percentage of cycle to cosine anneal\n",
    "\n",
    "cycle_len = 90\n",
    "\n",
    "momentum_max = 0.95 # maximum of momentum (when at min lr)\n",
    "momentum_min = 0.85 # minimum of momentum (when at max lr)"
   ]
  },
  {
   "cell_type": "code",
   "execution_count": 11,
   "metadata": {},
   "outputs": [],
   "source": [
    "learn.unfreeze()\n",
    "\n",
    "lrs = lr * np.array([1e-2, 1e-1, 1])"
   ]
  },
  {
   "cell_type": "code",
   "execution_count": 12,
   "metadata": {
    "scrolled": true
   },
   "outputs": [
    {
     "data": {
      "application/vnd.jupyter.widget-view+json": {
       "model_id": "a366459ec7f1494483725c8e9c970b1d",
       "version_major": 2,
       "version_minor": 0
      },
      "text/plain": [
       "HBox(children=(IntProgress(value=0, description='Epoch', max=90), HTML(value='')))"
      ]
     },
     "metadata": {},
     "output_type": "display_data"
    },
    {
     "name": "stdout",
     "output_type": "stream",
     "text": [
      "epoch      trn_loss   val_loss                                 \n",
      "    0      0.281038   0.148196  \n",
      "    1      0.167968   0.130732                                 \n",
      "    2      0.125365   0.120245                                 \n",
      "    3      0.116088   0.107886                                 \n",
      "    4      0.11676    0.107769                                 \n",
      "    5      0.114094   0.104806                                 \n",
      "    6      0.117067   0.107737                                 \n",
      "    7      0.113116   0.104757                                 \n",
      "    8      0.111679   0.105955                                 \n",
      "    9      0.114186   0.105613                                 \n",
      "    10     0.113491   0.104388                                 \n",
      "    11     0.112612   0.10475                                  \n",
      "    12     0.109685   0.099879                                 \n",
      "    13     0.110848   0.102196                                 \n",
      "    14     0.107339   0.100241                                 \n",
      "    15     0.109034   0.107084                                 \n",
      "    16     0.112353   0.098978                                 \n",
      "    17     0.109469   0.10688                                  \n",
      "    18     0.106136   0.098229                                 \n",
      "    19     0.109352   0.105029                                 \n",
      "    20     0.109154   0.102178                                 \n",
      "    21     0.104936   0.097603                                 \n",
      "    22     0.110312   0.101834                                 \n",
      "    23     0.106374   0.101722                                 \n",
      "    24     0.107592   0.097359                                 \n",
      "    25     0.106451   0.103877                                 \n",
      "    26     0.105998   0.098369                                 \n",
      "    27     0.102692   0.110473                                 \n",
      "    28     0.105509   0.095494                                 \n",
      "    29     0.110541   0.099641                                 \n",
      "    30     0.111513   0.109214                                 \n",
      "    31     0.107554   0.099081                                 \n",
      "    32     0.106106   0.101119                                 \n",
      "    33     0.10632    0.10271                                  \n",
      "    34     0.106903   0.104111                                 \n",
      "    35     0.103023   0.100778                                 \n",
      "    36     0.105712   0.107906                                 \n",
      "    37     0.103625   0.111133                                 \n",
      "    38     0.104416   0.110896                                 \n",
      "    39     0.104661   0.101962                                 \n",
      "    40     0.105875   0.106231                                 \n",
      "    41     0.105926   0.123011                                 \n",
      "    42     0.104794   0.096525                                 \n",
      "    43     0.103233   0.103692                                 \n",
      "    44     0.105717   0.112364                                  \n",
      "    45     0.106193   0.118238                                 \n",
      "    46     0.107867   0.124566                                 \n",
      "    47     0.10577    0.120472                                 \n",
      "    48     0.102166   0.10511                                   \n",
      "    49     0.106541   0.111219                                 \n",
      "    50     0.10673    0.107083                                  \n",
      "    51     0.100495   0.097568                                  \n",
      "    52     0.102444   0.119971                                  \n",
      "    53     0.102821   0.128968                                  \n",
      "    54     0.103038   0.124302                                  \n",
      "    55     0.100962   0.111199                                  \n",
      "    56     0.100262   0.102377                                  \n",
      "    57     0.097505   0.16035                                   \n",
      "    58     0.099215   0.118185                                  \n",
      "    59     0.102205   0.097312                                 \n",
      "    60     0.098106   0.108178                                  \n",
      "    61     0.104323   0.108831                                  \n",
      "    62     0.098387   0.119105                                  \n",
      "    63     0.102772   0.10454                                   \n",
      "    64     0.099963   0.107397                                  \n",
      "    65     0.097696   0.131976                                  \n",
      "    66     0.101673   0.104432                                  \n",
      "    67     0.097376   0.108566                                  \n",
      "    68     0.105656   0.108256                                  \n",
      "    69     0.101713   0.115616                                  \n",
      "    70     0.098153   0.10964                                   \n",
      "    71     0.09707    0.095801                                  \n",
      "    72     0.096162   0.096314                                  \n",
      "    73     0.10086    0.099824                                  \n",
      "    74     0.095809   0.093721                                  \n",
      "    75     0.094901   0.116699                                  \n",
      "    76     0.095817   0.093805                                  \n",
      "    77     0.101174   0.10144                                   \n",
      "    78     0.093603   0.097722                                  \n",
      "    79     0.098244   0.09786                                   \n",
      "    80     0.094709   0.101063                                  \n",
      "    81     0.093978   0.106007                                  \n",
      "    82     0.09398    0.108523                                  \n",
      "    83     0.093109   0.098303                                  \n",
      "    84     0.091967   0.102121                                  \n",
      "    85     0.092057   0.101944                                  \n",
      "    86     0.091303   0.09422                                   \n",
      "    87     0.09265    0.095404                                  \n",
      "    88     0.090471   0.093265                                  \n",
      "    89     0.090368   0.096275                                  \n"
     ]
    },
    {
     "data": {
      "text/plain": [
       "[array([0.09627])]"
      ]
     },
     "execution_count": 12,
     "metadata": {},
     "output_type": "execute_result"
    }
   ],
   "source": [
    "learn.fit(lrs, 1, cycle_len=cycle_len, use_clr_beta=(lr_factor, lr_anneal_pct, momentum_max, momentum_min))"
   ]
  },
  {
   "cell_type": "code",
   "execution_count": 13,
   "metadata": {},
   "outputs": [],
   "source": [
    "learn.save('resnext101-CLR-init')"
   ]
  },
  {
   "cell_type": "code",
   "execution_count": 16,
   "metadata": {},
   "outputs": [],
   "source": [
    "np.save(f'{PATH}/tmp/resnext101-CLR_val_losses.npy', learn.sched.val_losses)\n",
    "np.save(f'{PATH}/tmp/resnext101-CLR_trn_losses.npy', learn.sched.losses)"
   ]
  },
  {
   "cell_type": "code",
   "execution_count": 14,
   "metadata": {},
   "outputs": [
    {
     "data": {
      "text/plain": [
       "<matplotlib.legend.Legend at 0x7f3a3dd0cc18>"
      ]
     },
     "execution_count": 14,
     "metadata": {},
     "output_type": "execute_result"
    },
    {
     "data": {
      "image/png": "[encoded data removed]",
      "text/plain": [
       "<Figure size 720x360 with 1 Axes>"
      ]
     },
     "metadata": {},
     "output_type": "display_data"
    }
   ],
   "source": [
    "fig,ax = plt.subplots(1,1, figsize=(10, 5))\n",
    "ax.plot(list(range(cycle_len)),learn.sched.val_losses, label='Validation loss')\n",
    "ax.plot(list(range(cycle_len)),[learn.sched.losses[i] for i in range(1199, cycle_len*1200, 1200)], label='Training loss')\n",
    "ax.set_xlabel('Epoch')\n",
    "ax.set_ylabel('Loss')\n",
    "ax.legend(loc='upper right')"
   ]
  },
  {
   "cell_type": "code",
   "execution_count": null,
   "metadata": {},
   "outputs": [],
   "source": []
  }
 ],
 "metadata": {
  "kernelspec": {
   "display_name": "Python 3",
   "language": "python",
   "name": "python3"
  },
  "language_info": {
   "codemirror_mode": {
    "name": "ipython",
    "version": 3
   },
   "file_extension": ".py",
   "mimetype": "text/x-python",
   "name": "python",
   "nbconvert_exporter": "python",
   "pygments_lexer": "ipython3",
   "version": "3.6.5"
  },
  "toc": {
   "base_numbering": 1,
   "nav_menu": {},
   "number_sections": true,
   "sideBar": true,
   "skip_h1_title": false,
   "title_cell": "Table of Contents",
   "title_sidebar": "Contents",
   "toc_cell": false,
   "toc_position": {},
   "toc_section_display": true,
   "toc_window_display": false
  }
 },
 "nbformat": 4,
 "nbformat_minor": 2
}
