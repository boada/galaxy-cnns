{
 "cells": [
  {
   "cell_type": "markdown",
   "metadata": {},
   "source": [
    "# Characterizing the distribution of predicted and true metallicities"
   ]
  },
  {
   "cell_type": "code",
   "execution_count": 1,
   "metadata": {},
   "outputs": [],
   "source": [
    "import matplotlib\n",
    "import matplotlib.pyplot as plt\n",
    "import numpy as np\n",
    "import os\n",
    "import pandas as pd\n",
    "import PIL\n",
    "from scipy.optimize import minimize\n",
    "%matplotlib inline\n",
    "\n",
    "from IPython.display import display\n",
    "\n",
    "PATH = os.path.abspath('../..')"
   ]
  },
  {
   "cell_type": "markdown",
   "metadata": {},
   "source": [
    "# Load data"
   ]
  },
  {
   "cell_type": "code",
   "execution_count": 2,
   "metadata": {},
   "outputs": [
    {
     "data": {
      "text/html": [
       "<div>\n",
       "<style scoped>\n",
       "    .dataframe tbody tr th:only-of-type {\n",
       "        vertical-align: middle;\n",
       "    }\n",
       "\n",
       "    .dataframe tbody tr th {\n",
       "        vertical-align: top;\n",
       "    }\n",
       "\n",
       "    .dataframe thead th {\n",
       "        text-align: right;\n",
       "    }\n",
       "</style>\n",
       "<table border=\"1\" class=\"dataframe\">\n",
       "  <thead>\n",
       "    <tr style=\"text-align: right;\">\n",
       "      <th></th>\n",
       "      <th>oh_p50</th>\n",
       "      <th>prediction</th>\n",
       "    </tr>\n",
       "    <tr>\n",
       "      <th>objID</th>\n",
       "      <th></th>\n",
       "      <th></th>\n",
       "    </tr>\n",
       "  </thead>\n",
       "  <tbody>\n",
       "    <tr>\n",
       "      <th>1237658493878337647</th>\n",
       "      <td>8.577997</td>\n",
       "      <td>8.696861</td>\n",
       "    </tr>\n",
       "    <tr>\n",
       "      <th>1237665330918850673</th>\n",
       "      <td>8.726439</td>\n",
       "      <td>8.757436</td>\n",
       "    </tr>\n",
       "    <tr>\n",
       "      <th>1237657630582178125</th>\n",
       "      <td>8.948060</td>\n",
       "      <td>9.024221</td>\n",
       "    </tr>\n",
       "    <tr>\n",
       "      <th>1237651250411405534</th>\n",
       "      <td>8.894798</td>\n",
       "      <td>9.015285</td>\n",
       "    </tr>\n",
       "    <tr>\n",
       "      <th>1237674651536261211</th>\n",
       "      <td>8.333275</td>\n",
       "      <td>8.544479</td>\n",
       "    </tr>\n",
       "  </tbody>\n",
       "</table>\n",
       "</div>"
      ],
      "text/plain": [
       "                       oh_p50  prediction\n",
       "objID                                    \n",
       "1237658493878337647  8.577997    8.696861\n",
       "1237665330918850673  8.726439    8.757436\n",
       "1237657630582178125  8.948060    9.024221\n",
       "1237651250411405534  8.894798    9.015285\n",
       "1237674651536261211  8.333275    8.544479"
      ]
     },
     "execution_count": 2,
     "metadata": {},
     "output_type": "execute_result"
    }
   ],
   "source": [
    "df = pd.read_csv(f'{PATH}/catalogs/predictions-oh_p50.csv', index_col=0)\n",
    "df.head()"
   ]
  },
  {
   "cell_type": "markdown",
   "metadata": {},
   "source": [
    "# Comparing predicted vs. true"
   ]
  },
  {
   "cell_type": "markdown",
   "metadata": {},
   "source": [
    "## Binning"
   ]
  },
  {
   "cell_type": "code",
   "execution_count": 3,
   "metadata": {},
   "outputs": [
    {
     "name": "stdout",
     "output_type": "stream",
     "text": [
      "True Z binsize: 0.0180\n",
      "Predicted Z binsize: 0.0163\n"
     ]
    }
   ],
   "source": [
    "# Freedman-Diaconis bin size rule\n",
    "binsize_true = 2 * (df.oh_p50.quantile(0.75) - df.oh_p50.quantile(0.25)) * df.oh_p50.size**(-1/3)\n",
    "print(f'True Z binsize: {binsize_true:.4f}')\n",
    "\n",
    "binsize_pred = 2 * (df.prediction.quantile(0.75) - df.prediction.quantile(0.25)) * df.prediction.size**(-1/3)\n",
    "print(f'Predicted Z binsize: {binsize_pred:.4f}')\n",
    "\n",
    "bins = 40\n",
    "center = 8.7\n",
    "\n",
    "histrange_true = [center - bins * binsize_true, center + bins * binsize_true]\n",
    "histrange_pred = [center - bins * binsize_pred, center + bins * binsize_pred]\n",
    "\n"
   ]
  },
  {
   "cell_type": "markdown",
   "metadata": {},
   "source": [
    "## Plotting"
   ]
  },
  {
   "cell_type": "code",
   "execution_count": 15,
   "metadata": {},
   "outputs": [
    {
     "data": {
      "image/png": "[encoded data removed]",
      "text/plain": [
       "<Figure size 432x288 with 1 Axes>"
      ]
     },
     "metadata": {},
     "output_type": "display_data"
    }
   ],
   "source": [
    "fig, ax = plt.subplots(1, 1, figsize=(6, 4))\n",
    "\n",
    "ax.hist(df.oh_p50, bins=bins, range=histrange_true, color='k', histtype='step', lw=3, label=r'$Z_{\\rm true}$');\n",
    "ax.hist(df.prediction, bins=bins, range=histrange_pred, color='C3', histtype='step', lw=3, ls='-', label=r'$Z_{\\rm pred}$')\n",
    "\n",
    "ax.legend(fontsize=14, loc='upper left')\n",
    "\n",
    "ax.set_xlabel('Metallicity', fontsize=12)\n",
    "ax.set_ylabel('Number of galaxies', fontsize=12);\n",
    "\n",
    "fig.savefig(f'{PATH}/results/03-Z_distribution.pdf')"
   ]
  },
  {
   "cell_type": "markdown",
   "metadata": {},
   "source": [
    "# Comparing residual distribution"
   ]
  },
  {
   "cell_type": "code",
   "execution_count": 6,
   "metadata": {},
   "outputs": [],
   "source": [
    "res = df.prediction - df.oh_p50"
   ]
  },
  {
   "cell_type": "markdown",
   "metadata": {},
   "source": [
    "## bin size again"
   ]
  },
  {
   "cell_type": "code",
   "execution_count": 7,
   "metadata": {},
   "outputs": [
    {
     "name": "stdout",
     "output_type": "stream",
     "text": [
      "Bin size: 0.0066\n"
     ]
    }
   ],
   "source": [
    "binsize_res = 2 * (res.quantile(0.75) - res.quantile(0.25)) * res.size**(-1/3)\n",
    "print(f'Bin size: {binsize_res:.4f}')\n",
    "\n",
    "bins = 40\n",
    "center_res = 0\n",
    "\n",
    "histrange_res = [-bins * binsize_res, bins * binsize_res]\n"
   ]
  },
  {
   "cell_type": "markdown",
   "metadata": {},
   "source": [
    "## Fit gaussian"
   ]
  },
  {
   "cell_type": "code",
   "execution_count": 9,
   "metadata": {},
   "outputs": [
    {
     "name": "stdout",
     "output_type": "stream",
     "text": [
      "Center: -0.0090\n"
     ]
    },
    {
     "data": {
      "image/png": "[encoded data removed]",
      "text/plain": [
       "<Figure size 432x216 with 1 Axes>"
      ]
     },
     "metadata": {},
     "output_type": "display_data"
    }
   ],
   "source": [
    "fig, ax = plt.subplots(1, 1, figsize=(6, 3))\n",
    "\n",
    "n, bin_edges, _ = ax.hist(res, bins=bins, range=histrange_res, color='k', histtype='step', lw=3)\n",
    "\n",
    "# fit gaussian\n",
    "def gaussian(x, amp, mu, std): \n",
    "    return amp*np.exp(-(x-mu)**2 / (2*std**2))\n",
    "\n",
    "def mse_loss(params, x, y):\n",
    "    return np.sum((gaussian(x, *params) - y)**2)\n",
    "    \n",
    "\n",
    "bin_centers = (bin_edges[:-1]+bin_edges[1:]) / 2\n",
    "\n",
    "result = minimize(mse_loss, [1500, 0, 0.07], args=(bin_centers, n))\n",
    "\n",
    "fit_normal = gaussian(bin_centers, *result['x'])\n",
    "\n",
    "ax.plot(bin_centers, fit_normal, label='Best fit normal')\n",
    "\n",
    "print(f'Center: {result[\"x\"][1]:.04f}')\n",
    "\n",
    "ax.set_xlabel('$\\Delta Z$', fontsize=12)\n",
    "ax.set_ylabel('Number', fontsize=12);"
   ]
  },
  {
   "cell_type": "markdown",
   "metadata": {},
   "source": [
    "# Show both"
   ]
  },
  {
   "cell_type": "code",
   "execution_count": 17,
   "metadata": {},
   "outputs": [
    {
     "data": {
      "image/png": "[encoded data removed]",
      "text/plain": [
       "<Figure size 432x288 with 2 Axes>"
      ]
     },
     "metadata": {},
     "output_type": "display_data"
    }
   ],
   "source": [
    "fig, ax = plt.subplots(1, 1, figsize=(6, 4))\n",
    "\n",
    "ax.hist(df.oh_p50, bins=bins, range=histrange_true, color='k', histtype='step', lw=3, label=r'$Z_{\\rm true}$');\n",
    "ax.hist(df.prediction, bins=bins, range=histrange_pred, color='C3', histtype='step', lw=3, ls='-', label=r'$Z_{\\rm pred}$')\n",
    "\n",
    "ax.legend(fontsize=12, loc='upper right')\n",
    "\n",
    "ax.set_xlabel('Metallicity', fontsize=12)\n",
    "ax.set_ylabel('Number of galaxies', fontsize=12);\n",
    "\n",
    "# inset plot\n",
    "\n",
    "ax_inset = fig.add_axes([0.22, 0.45, 0.3, 0.4])\n",
    "\n",
    "n, bin_edges, _ = ax_inset.hist(res, bins=bins, range=histrange_res, color='k', histtype='step', lw=3)\n",
    "\n",
    "ax_inset.set_xlabel('$\\Delta Z$', fontsize=12)\n",
    "#ax_inset.set_yticks([])\n",
    "#ax_inset.set_ylabel('Number of galaxies', fontsize=12);\n",
    "\n",
    "#fig.savefig(f'{PATH}/results/03-Z_distribution.pdf')"
   ]
  },
  {
   "cell_type": "markdown",
   "metadata": {},
   "source": [
    "# Other scratch work"
   ]
  },
  {
   "cell_type": "code",
   "execution_count": 11,
   "metadata": {},
   "outputs": [
    {
     "name": "stdout",
     "output_type": "stream",
     "text": [
      "-0.005988499999999952\n",
      "8.9556535\n",
      "8.9574415\n"
     ]
    }
   ],
   "source": [
    "print(res.median())\n",
    "print(df.oh_p50.median())\n",
    "print(df.prediction.median())"
   ]
  },
  {
   "cell_type": "code",
   "execution_count": 12,
   "metadata": {},
   "outputs": [
    {
     "name": "stdout",
     "output_type": "stream",
     "text": [
      "0.08510073757853413\n"
     ]
    }
   ],
   "source": [
    "print(res.std())"
   ]
  },
  {
   "cell_type": "code",
   "execution_count": 17,
   "metadata": {},
   "outputs": [
    {
     "name": "stdout",
     "output_type": "stream",
     "text": [
      "2573\n",
      "20466\n",
      "0.12572070751490277\n"
     ]
    }
   ],
   "source": [
    "print(np.sum(df.oh_p50 > 9.1))\n",
    "print(len(df))\n",
    "print(np.sum(df.oh_p50 > 9.1) / len(df))"
   ]
  },
  {
   "cell_type": "code",
   "execution_count": 18,
   "metadata": {},
   "outputs": [
    {
     "name": "stdout",
     "output_type": "stream",
     "text": [
      "1176\n",
      "0.0574611550864849\n"
     ]
    }
   ],
   "source": [
    "print(np.sum(df.prediction > 9.1))\n",
    "print(np.sum(df.prediction > 9.1) / len(df))"
   ]
  },
  {
   "cell_type": "code",
   "execution_count": null,
   "metadata": {},
   "outputs": [],
   "source": []
  }
 ],
 "metadata": {
  "kernelspec": {
   "display_name": "Python [conda env:fastai]",
   "language": "python",
   "name": "conda-env-fastai-py"
  },
  "language_info": {
   "codemirror_mode": {
    "name": "ipython",
    "version": 3
   },
   "file_extension": ".py",
   "mimetype": "text/x-python",
   "name": "python",
   "nbconvert_exporter": "python",
   "pygments_lexer": "ipython3",
   "version": "3.6.5"
  },
  "toc": {
   "base_numbering": 1,
   "nav_menu": {},
   "number_sections": true,
   "sideBar": true,
   "skip_h1_title": false,
   "title_cell": "Table of Contents",
   "title_sidebar": "Contents",
   "toc_cell": false,
   "toc_position": {},
   "toc_section_display": true,
   "toc_window_display": false
  }
 },
 "nbformat": 4,
 "nbformat_minor": 2
}
