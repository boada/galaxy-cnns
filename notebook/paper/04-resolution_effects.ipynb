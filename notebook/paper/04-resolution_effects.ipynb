{
 "cells": [
  {
   "cell_type": "markdown",
   "metadata": {},
   "source": [
    "# The effects of lowering image resolution"
   ]
  },
  {
   "cell_type": "code",
   "execution_count": 1,
   "metadata": {},
   "outputs": [],
   "source": [
    "import matplotlib\n",
    "import matplotlib.pyplot as plt\n",
    "import numpy as np\n",
    "import os\n",
    "import pandas as pd\n",
    "import PIL\n",
    "%matplotlib inline\n",
    "\n",
    "from IPython.display import display\n",
    "\n",
    "PATH = os.path.abspath('../..')"
   ]
  },
  {
   "cell_type": "markdown",
   "metadata": {},
   "source": [
    "# Plotting function"
   ]
  },
  {
   "cell_type": "code",
   "execution_count": 2,
   "metadata": {},
   "outputs": [],
   "source": [
    "mad = lambda x: np.median(np.abs(x - np.median(x)))\n",
    "\n",
    "def nmad(z, const=1.4826):\n",
    "    \"\"\"Returns the Gaussian sigma according to MAD\"\"\"\n",
    "    return const*mad(z)\n",
    "\n",
    "def rmse(z):\n",
    "    \"\"\"Returns the root mean squared error\"\"\"\n",
    "    return np.sqrt(np.mean(z**2))\n",
    "\n",
    "# define colors\n",
    "c_nmad = '#8888ed'\n",
    "c_median = '#ce1504'\n",
    "c_rmse = '#ce1504'"
   ]
  },
  {
   "cell_type": "code",
   "execution_count": 3,
   "metadata": {},
   "outputs": [],
   "source": [
    "def plot_scatter(y_test, p_test, sz, ax, which_scatter, plot_style='scatter'):\n",
    "    \"\"\"Plot metallicity scatter for given resolution (image size, sz)\"\"\"\n",
    "    \n",
    "    bmin, bmax, step = 8.2, 9.3, 0.1\n",
    "\n",
    "    y_bins = np.arange(bmin, bmax, step)\n",
    "    num_in_bins = np.sum([(y_test > y - step/2) & (y_test < y + step/2) for y in y_bins], axis=1)\n",
    "\n",
    "    if which_scatter == 'RMSE':\n",
    "        rmse_bins = np.array([rmse((p_test - y_test)[(y_test > y - step/2) & (y_test < y + step/2)]) for y in y_bins])\n",
    "        rmse_error = rmse(p_test - y_test)\n",
    "        \n",
    "        if plot_style == 'scatter':\n",
    "            ax.scatter(y_bins, rmse_bins, marker='o', c=c_rmse, s=num_in_bins/30, label=f'{sz:>3d} RMSE = {rmse_error:.4f}')\n",
    "        elif plot_style == 'line':\n",
    "            ax.plot(y_bins, rmse_bins, c=plt.cm.GnBu(np.log2(sz)/7 + 0.1), lw=3, label=f'{sz:>3d} RMSE = {rmse_error:.4f}')\n",
    "\n",
    "    elif which_scatter == 'NMAD':\n",
    "        nmad_bins = np.array([nmad(((p_test - y_test)[(y_test > y - step/2) & (y_test < y + step/2)])) for y in y_bins])\n",
    "        nmad_error = nmad(p_test - y_test)\n",
    "        # weighted nmad error\n",
    "        #nmad_error = np.average(nmad_bins, weights=num_in_bins)\n",
    "        if plot_style == 'scatter':\n",
    "            ax.scatter(y_bins, nmad_bins, marker='o', c=c_nmad, s=num_in_bins/30, label=f'{sz:>3d} NMAD = {nmad_error:.4f}')\n",
    "        elif plot_style == 'line':\n",
    "            ax.plot(y_bins, nmad_bins, c=plt.cm.autumn(np.log2(sz)/7 + 0.1), lw=3, label=f'{sz:>3d} NMAD = {nmad_error:.4f}')\n",
    "    "
   ]
  },
  {
   "cell_type": "markdown",
   "metadata": {},
   "source": [
    "The same thing, but on a log-log plot"
   ]
  },
  {
   "cell_type": "markdown",
   "metadata": {},
   "source": [
    "# Including a random forest"
   ]
  },
  {
   "cell_type": "code",
   "execution_count": 4,
   "metadata": {},
   "outputs": [],
   "source": [
    "import sklearn\n",
    "import sklearn.ensemble\n",
    "import sklearn_pandas"
   ]
  },
  {
   "cell_type": "code",
   "execution_count": 5,
   "metadata": {},
   "outputs": [
    {
     "data": {
      "text/html": [
       "<div>\n",
       "<style scoped>\n",
       "    .dataframe tbody tr th:only-of-type {\n",
       "        vertical-align: middle;\n",
       "    }\n",
       "\n",
       "    .dataframe tbody tr th {\n",
       "        vertical-align: top;\n",
       "    }\n",
       "\n",
       "    .dataframe thead th {\n",
       "        text-align: right;\n",
       "    }\n",
       "</style>\n",
       "<table border=\"1\" class=\"dataframe\">\n",
       "  <thead>\n",
       "    <tr style=\"text-align: right;\">\n",
       "      <th></th>\n",
       "      <th>modelMag_g</th>\n",
       "      <th>modelMag_r</th>\n",
       "      <th>modelMag_i</th>\n",
       "      <th>oh_p50</th>\n",
       "    </tr>\n",
       "  </thead>\n",
       "  <tbody>\n",
       "    <tr>\n",
       "      <th>count</th>\n",
       "      <td>142186.000000</td>\n",
       "      <td>142186.000000</td>\n",
       "      <td>142186.000000</td>\n",
       "      <td>142186.000000</td>\n",
       "    </tr>\n",
       "    <tr>\n",
       "      <th>mean</th>\n",
       "      <td>17.671626</td>\n",
       "      <td>17.106933</td>\n",
       "      <td>16.765659</td>\n",
       "      <td>8.906503</td>\n",
       "    </tr>\n",
       "    <tr>\n",
       "      <th>std</th>\n",
       "      <td>0.677756</td>\n",
       "      <td>0.671206</td>\n",
       "      <td>0.684535</td>\n",
       "      <td>0.198560</td>\n",
       "    </tr>\n",
       "    <tr>\n",
       "      <th>min</th>\n",
       "      <td>13.351350</td>\n",
       "      <td>12.018020</td>\n",
       "      <td>11.982250</td>\n",
       "      <td>7.851740</td>\n",
       "    </tr>\n",
       "    <tr>\n",
       "      <th>25%</th>\n",
       "      <td>17.339060</td>\n",
       "      <td>16.791332</td>\n",
       "      <td>16.446108</td>\n",
       "      <td>8.808777</td>\n",
       "    </tr>\n",
       "    <tr>\n",
       "      <th>50%</th>\n",
       "      <td>17.832575</td>\n",
       "      <td>17.291490</td>\n",
       "      <td>16.944820</td>\n",
       "      <td>8.955610</td>\n",
       "    </tr>\n",
       "    <tr>\n",
       "      <th>75%</th>\n",
       "      <td>18.154280</td>\n",
       "      <td>17.602540</td>\n",
       "      <td>17.256935</td>\n",
       "      <td>9.053747</td>\n",
       "    </tr>\n",
       "    <tr>\n",
       "      <th>max</th>\n",
       "      <td>24.378170</td>\n",
       "      <td>19.187200</td>\n",
       "      <td>24.817750</td>\n",
       "      <td>9.469999</td>\n",
       "    </tr>\n",
       "  </tbody>\n",
       "</table>\n",
       "</div>"
      ],
      "text/plain": [
       "          modelMag_g     modelMag_r     modelMag_i         oh_p50\n",
       "count  142186.000000  142186.000000  142186.000000  142186.000000\n",
       "mean       17.671626      17.106933      16.765659       8.906503\n",
       "std         0.677756       0.671206       0.684535       0.198560\n",
       "min        13.351350      12.018020      11.982250       7.851740\n",
       "25%        17.339060      16.791332      16.446108       8.808777\n",
       "50%        17.832575      17.291490      16.944820       8.955610\n",
       "75%        18.154280      17.602540      17.256935       9.053747\n",
       "max        24.378170      19.187200      24.817750       9.469999"
      ]
     },
     "execution_count": 5,
     "metadata": {},
     "output_type": "execute_result"
    }
   ],
   "source": [
    "df = pd.read_csv(f'{PATH}/catalogs/SDSSspecgalsDR14_boada.csv')\n",
    "\n",
    "# cut columns\n",
    "columns_of_interest = ['objID', 'modelMag_g', 'modelMag_r', 'modelMag_i', 'oh_p50']\n",
    "df = df.loc[:, columns_of_interest]\n",
    "\n",
    "df.set_index('objID', inplace=True)\n",
    "df.describe()"
   ]
  },
  {
   "cell_type": "code",
   "execution_count": 8,
   "metadata": {},
   "outputs": [],
   "source": [
    "preds = pd.read_csv(f'{PATH}/catalogs/predictions-oh_p50.csv', index_col=0)"
   ]
  },
  {
   "cell_type": "markdown",
   "metadata": {},
   "source": [
    "## Use same test-train split as CNN"
   ]
  },
  {
   "cell_type": "code",
   "execution_count": 9,
   "metadata": {},
   "outputs": [
    {
     "data": {
      "text/html": [
       "<div>\n",
       "<style scoped>\n",
       "    .dataframe tbody tr th:only-of-type {\n",
       "        vertical-align: middle;\n",
       "    }\n",
       "\n",
       "    .dataframe tbody tr th {\n",
       "        vertical-align: top;\n",
       "    }\n",
       "\n",
       "    .dataframe thead th {\n",
       "        text-align: right;\n",
       "    }\n",
       "</style>\n",
       "<table border=\"1\" class=\"dataframe\">\n",
       "  <thead>\n",
       "    <tr style=\"text-align: right;\">\n",
       "      <th></th>\n",
       "      <th>modelMag_g</th>\n",
       "      <th>modelMag_r</th>\n",
       "      <th>modelMag_i</th>\n",
       "      <th>oh_p50</th>\n",
       "    </tr>\n",
       "  </thead>\n",
       "  <tbody>\n",
       "    <tr>\n",
       "      <th>count</th>\n",
       "      <td>20467.000000</td>\n",
       "      <td>20467.000000</td>\n",
       "      <td>20467.000000</td>\n",
       "      <td>20467.000000</td>\n",
       "    </tr>\n",
       "    <tr>\n",
       "      <th>mean</th>\n",
       "      <td>17.665191</td>\n",
       "      <td>17.100300</td>\n",
       "      <td>16.758925</td>\n",
       "      <td>8.905743</td>\n",
       "    </tr>\n",
       "    <tr>\n",
       "      <th>std</th>\n",
       "      <td>0.684137</td>\n",
       "      <td>0.678920</td>\n",
       "      <td>0.690011</td>\n",
       "      <td>0.200184</td>\n",
       "    </tr>\n",
       "    <tr>\n",
       "      <th>min</th>\n",
       "      <td>13.886560</td>\n",
       "      <td>12.962520</td>\n",
       "      <td>12.395470</td>\n",
       "      <td>7.896335</td>\n",
       "    </tr>\n",
       "    <tr>\n",
       "      <th>25%</th>\n",
       "      <td>17.325245</td>\n",
       "      <td>16.780315</td>\n",
       "      <td>16.438615</td>\n",
       "      <td>8.808639</td>\n",
       "    </tr>\n",
       "    <tr>\n",
       "      <th>50%</th>\n",
       "      <td>17.832370</td>\n",
       "      <td>17.287650</td>\n",
       "      <td>16.940770</td>\n",
       "      <td>8.955670</td>\n",
       "    </tr>\n",
       "    <tr>\n",
       "      <th>75%</th>\n",
       "      <td>18.153095</td>\n",
       "      <td>17.605120</td>\n",
       "      <td>17.257805</td>\n",
       "      <td>9.054213</td>\n",
       "    </tr>\n",
       "    <tr>\n",
       "      <th>max</th>\n",
       "      <td>22.461750</td>\n",
       "      <td>18.397070</td>\n",
       "      <td>24.362130</td>\n",
       "      <td>9.465558</td>\n",
       "    </tr>\n",
       "  </tbody>\n",
       "</table>\n",
       "</div>"
      ],
      "text/plain": [
       "         modelMag_g    modelMag_r    modelMag_i        oh_p50\n",
       "count  20467.000000  20467.000000  20467.000000  20467.000000\n",
       "mean      17.665191     17.100300     16.758925      8.905743\n",
       "std        0.684137      0.678920      0.690011      0.200184\n",
       "min       13.886560     12.962520     12.395470      7.896335\n",
       "25%       17.325245     16.780315     16.438615      8.808639\n",
       "50%       17.832370     17.287650     16.940770      8.955670\n",
       "75%       18.153095     17.605120     17.257805      9.054213\n",
       "max       22.461750     18.397070     24.362130      9.465558"
      ]
     },
     "execution_count": 9,
     "metadata": {},
     "output_type": "execute_result"
    }
   ],
   "source": [
    "df_test = df.loc[preds.index]\n",
    "df_test.describe()"
   ]
  },
  {
   "cell_type": "code",
   "execution_count": 10,
   "metadata": {},
   "outputs": [
    {
     "data": {
      "text/html": [
       "<div>\n",
       "<style scoped>\n",
       "    .dataframe tbody tr th:only-of-type {\n",
       "        vertical-align: middle;\n",
       "    }\n",
       "\n",
       "    .dataframe tbody tr th {\n",
       "        vertical-align: top;\n",
       "    }\n",
       "\n",
       "    .dataframe thead th {\n",
       "        text-align: right;\n",
       "    }\n",
       "</style>\n",
       "<table border=\"1\" class=\"dataframe\">\n",
       "  <thead>\n",
       "    <tr style=\"text-align: right;\">\n",
       "      <th></th>\n",
       "      <th>modelMag_g</th>\n",
       "      <th>modelMag_r</th>\n",
       "      <th>modelMag_i</th>\n",
       "      <th>oh_p50</th>\n",
       "    </tr>\n",
       "  </thead>\n",
       "  <tbody>\n",
       "    <tr>\n",
       "      <th>count</th>\n",
       "      <td>121719.000000</td>\n",
       "      <td>121719.000000</td>\n",
       "      <td>121719.000000</td>\n",
       "      <td>121719.000000</td>\n",
       "    </tr>\n",
       "    <tr>\n",
       "      <th>mean</th>\n",
       "      <td>17.672708</td>\n",
       "      <td>17.108049</td>\n",
       "      <td>16.766791</td>\n",
       "      <td>8.906631</td>\n",
       "    </tr>\n",
       "    <tr>\n",
       "      <th>std</th>\n",
       "      <td>0.676674</td>\n",
       "      <td>0.669897</td>\n",
       "      <td>0.683606</td>\n",
       "      <td>0.198286</td>\n",
       "    </tr>\n",
       "    <tr>\n",
       "      <th>min</th>\n",
       "      <td>13.351350</td>\n",
       "      <td>12.018020</td>\n",
       "      <td>11.982250</td>\n",
       "      <td>7.851740</td>\n",
       "    </tr>\n",
       "    <tr>\n",
       "      <th>25%</th>\n",
       "      <td>17.341985</td>\n",
       "      <td>16.793165</td>\n",
       "      <td>16.447555</td>\n",
       "      <td>8.808808</td>\n",
       "    </tr>\n",
       "    <tr>\n",
       "      <th>50%</th>\n",
       "      <td>17.832620</td>\n",
       "      <td>17.292030</td>\n",
       "      <td>16.945600</td>\n",
       "      <td>8.955603</td>\n",
       "    </tr>\n",
       "    <tr>\n",
       "      <th>75%</th>\n",
       "      <td>18.154470</td>\n",
       "      <td>17.602210</td>\n",
       "      <td>17.256735</td>\n",
       "      <td>9.053669</td>\n",
       "    </tr>\n",
       "    <tr>\n",
       "      <th>max</th>\n",
       "      <td>24.378170</td>\n",
       "      <td>19.187200</td>\n",
       "      <td>24.817750</td>\n",
       "      <td>9.469999</td>\n",
       "    </tr>\n",
       "  </tbody>\n",
       "</table>\n",
       "</div>"
      ],
      "text/plain": [
       "          modelMag_g     modelMag_r     modelMag_i         oh_p50\n",
       "count  121719.000000  121719.000000  121719.000000  121719.000000\n",
       "mean       17.672708      17.108049      16.766791       8.906631\n",
       "std         0.676674       0.669897       0.683606       0.198286\n",
       "min        13.351350      12.018020      11.982250       7.851740\n",
       "25%        17.341985      16.793165      16.447555       8.808808\n",
       "50%        17.832620      17.292030      16.945600       8.955603\n",
       "75%        18.154470      17.602210      17.256735       9.053669\n",
       "max        24.378170      19.187200      24.817750       9.469999"
      ]
     },
     "execution_count": 10,
     "metadata": {},
     "output_type": "execute_result"
    }
   ],
   "source": [
    "df_train = df.drop(preds.index)\n",
    "df_train.describe()"
   ]
  },
  {
   "cell_type": "code",
   "execution_count": 11,
   "metadata": {},
   "outputs": [],
   "source": [
    "X = df_train[['modelMag_g', 'modelMag_r', 'modelMag_i']]\n",
    "y = df_train['oh_p50']"
   ]
  },
  {
   "cell_type": "code",
   "execution_count": 12,
   "metadata": {},
   "outputs": [],
   "source": [
    "X_train, X_val, y_train, y_val = sklearn.model_selection.train_test_split(X, y, test_size=0.2, random_state=256)"
   ]
  },
  {
   "cell_type": "markdown",
   "metadata": {},
   "source": [
    "## Train RF"
   ]
  },
  {
   "cell_type": "code",
   "execution_count": 13,
   "metadata": {},
   "outputs": [
    {
     "name": "stdout",
     "output_type": "stream",
     "text": [
      "CPU times: user 3.62 s, sys: 20 ms, total: 3.64 s\n",
      "Wall time: 3.64 s\n"
     ]
    }
   ],
   "source": [
    "%%time\n",
    "reg = sklearn.ensemble.RandomForestRegressor(criterion='mse', random_state=256)\n",
    "\n",
    "reg.fit(X_train, y_train)"
   ]
  },
  {
   "cell_type": "markdown",
   "metadata": {},
   "source": [
    "## Train RF using Viviana (2016) method"
   ]
  },
  {
   "cell_type": "code",
   "execution_count": 14,
   "metadata": {},
   "outputs": [
    {
     "name": "stdout",
     "output_type": "stream",
     "text": [
      "CPU times: user 10.5 s, sys: 16 ms, total: 10.5 s\n",
      "Wall time: 10.5 s\n"
     ]
    }
   ],
   "source": [
    "%%time\n",
    "reg_V16 = sklearn.ensemble.RandomForestRegressor(bootstrap=True,\n",
    "           criterion='mse', max_depth=None, max_features='auto', min_samples_leaf=8,\n",
    "           min_samples_split=2, n_estimators=40, n_jobs=1, oob_score=False,\n",
    "           random_state=256, verbose=0)\n",
    "\n",
    "reg_V16.fit(X_train, y_train)"
   ]
  },
  {
   "cell_type": "markdown",
   "metadata": {},
   "source": [
    "## Compute validation metrics"
   ]
  },
  {
   "cell_type": "code",
   "execution_count": 15,
   "metadata": {},
   "outputs": [],
   "source": [
    "p = reg.predict(X_val)"
   ]
  },
  {
   "cell_type": "code",
   "execution_count": 16,
   "metadata": {},
   "outputs": [
    {
     "name": "stdout",
     "output_type": "stream",
     "text": [
      "RMSE = 0.1354\n",
      "NMAD = 0.1165\n"
     ]
    }
   ],
   "source": [
    "print('RMSE = {:.4f}'.format(rmse(p - y_val)))\n",
    "print('NMAD = {:.4f}'.format(nmad(p - y_val)))"
   ]
  },
  {
   "cell_type": "code",
   "execution_count": 17,
   "metadata": {},
   "outputs": [],
   "source": [
    "p_V16 = reg_V16.predict(X_val)"
   ]
  },
  {
   "cell_type": "code",
   "execution_count": 18,
   "metadata": {},
   "outputs": [
    {
     "name": "stdout",
     "output_type": "stream",
     "text": [
      "RMSE = 0.1269\n",
      "NMAD = 0.1078\n"
     ]
    }
   ],
   "source": [
    "print('RMSE = {:.4f}'.format(rmse(p_V16 - y_val)))\n",
    "print('NMAD = {:.4f}'.format(nmad(p_V16 - y_val)))"
   ]
  },
  {
   "cell_type": "markdown",
   "metadata": {},
   "source": [
    "## Test metrics"
   ]
  },
  {
   "cell_type": "code",
   "execution_count": 19,
   "metadata": {},
   "outputs": [],
   "source": [
    "X_test = df_test[['modelMag_g', 'modelMag_r', 'modelMag_i']]\n",
    "y_test = df_test['oh_p50']"
   ]
  },
  {
   "cell_type": "code",
   "execution_count": 20,
   "metadata": {},
   "outputs": [],
   "source": [
    "p_test = reg.predict(X_test)"
   ]
  },
  {
   "cell_type": "code",
   "execution_count": 21,
   "metadata": {},
   "outputs": [
    {
     "name": "stdout",
     "output_type": "stream",
     "text": [
      "RMSE = 0.1380\n",
      "NMAD = 0.1162\n"
     ]
    }
   ],
   "source": [
    "rmse_RF = rmse(p_test - y_test)\n",
    "nmad_RF = nmad(p_test - y_test)\n",
    "print(f'RMSE = {rmse_RF:.4f}')\n",
    "print(f'NMAD = {nmad_RF:.4f}')"
   ]
  },
  {
   "cell_type": "code",
   "execution_count": 22,
   "metadata": {},
   "outputs": [],
   "source": [
    "p_test_V = reg_V16.predict(X_test)"
   ]
  },
  {
   "cell_type": "code",
   "execution_count": 23,
   "metadata": {},
   "outputs": [
    {
     "name": "stdout",
     "output_type": "stream",
     "text": [
      "RMSE = 0.1296\n",
      "NMAD = 0.1059\n"
     ]
    }
   ],
   "source": [
    "rmse_RF_V16 = rmse(p_test_V - y_test)\n",
    "nmad_RF_V16 = nmad(p_test_V - y_test)\n",
    "print(f'RMSE = {rmse_RF_V16:.4f}')\n",
    "print(f'NMAD = {nmad_RF_V16:.4f}')"
   ]
  },
  {
   "cell_type": "markdown",
   "metadata": {},
   "source": [
    "# Plot including RF"
   ]
  },
  {
   "cell_type": "code",
   "execution_count": 26,
   "metadata": {},
   "outputs": [
    {
     "data": {
      "image/png": "[encoded data removed]",
      "text/plain": [
       "<Figure size 360x360 with 1 Axes>"
      ]
     },
     "metadata": {},
     "output_type": "display_data"
    }
   ],
   "source": [
    "fig, ax = plt.subplots(1, 1, figsize=(5, 5))\n",
    "\n",
    "\n",
    "# compute random scatter about median in total sample\n",
    "intrinsic_rmse = rmse(preds.oh_p50 - np.mean(preds.oh_p50))\n",
    "intrinsic_nmad = nmad(preds.oh_p50 - np.mean(preds.oh_p50))\n",
    "\n",
    "sizes = [128, 64, 32, 16, 8, 4, 2, 1]\n",
    "rmses = []\n",
    "nmads = []\n",
    "for sz in sizes:\n",
    "    preds = pd.read_csv(f'{PATH}/catalogs/predictions_{sz}-oh_p50.csv', index_col=0)\n",
    "    \n",
    "    rmses.append(rmse(preds.prediction - preds.oh_p50))\n",
    "    nmads.append(nmad(preds.prediction - preds.oh_p50))\n",
    "    \n",
    "ax.scatter(sizes, rmses, c=c_rmse, s=60, label=r'RMSE - CNN')\n",
    "ax.scatter(1, rmse_RF, c=c_rmse, s=100, marker='^', label=r'RMSE - RF')\n",
    "ax.scatter(0.5, intrinsic_rmse, marker='s', s=60, c=c_rmse, label=r'RMSE - Mean')\n",
    "ax.scatter(sizes, nmads, c=c_nmad, s=60, label=r'NMAD - CNN')\n",
    "ax.scatter(1, nmad_RF, c=c_nmad, s=100, marker='^', label=r'NMAD - RF')\n",
    "ax.scatter(0.5, intrinsic_nmad, marker='s', s=60, c=c_nmad, label=r'NMAD - Mean')\n",
    "\n",
    "ax.set_xscale('log')\n",
    "plt.minorticks_off()\n",
    "ax.set_xticks(list(reversed(sizes)), minor=False)\n",
    "ax.set_xticklabels(list(reversed([str(s) + r'$^2$' for s in sizes])))\n",
    "\n",
    "ax.set_xlim(0.4, 256)\n",
    "ax.set_xlabel('Resolution (pixels)', fontsize=14)\n",
    "ax.set_ylabel('Scatter', fontsize=14)\n",
    "\n",
    "ax.legend(fontsize=12, frameon=False);\n",
    "\n",
    "fig.savefig(f'{PATH}/results/04-resolution.pdf')"
   ]
  },
  {
   "cell_type": "code",
   "execution_count": null,
   "metadata": {},
   "outputs": [],
   "source": []
  }
 ],
 "metadata": {
  "kernelspec": {
   "display_name": "Python [conda env:fastai]",
   "language": "python",
   "name": "conda-env-fastai-py"
  },
  "language_info": {
   "codemirror_mode": {
    "name": "ipython",
    "version": 3
   },
   "file_extension": ".py",
   "mimetype": "text/x-python",
   "name": "python",
   "nbconvert_exporter": "python",
   "pygments_lexer": "ipython3",
   "version": "3.6.5"
  },
  "toc": {
   "base_numbering": 1,
   "nav_menu": {},
   "number_sections": true,
   "sideBar": true,
   "skip_h1_title": false,
   "title_cell": "Table of Contents",
   "title_sidebar": "Contents",
   "toc_cell": false,
   "toc_position": {},
   "toc_section_display": true,
   "toc_window_display": false
  }
 },
 "nbformat": 4,
 "nbformat_minor": 2
}
