{
 "cells": [
  {
   "cell_type": "markdown",
   "metadata": {},
   "source": [
    "# Overview"
   ]
  },
  {
   "cell_type": "markdown",
   "metadata": {},
   "source": [
    "I'm going to take a trained model, e.g., the \"super-converged\" resnet34 weights, and try to make predictions on grayscale images. Note that images can be grayscale for two reasons:\n",
    "1. only a single photometric band is available\n",
    "2. a very wide band (combination of photometric bands) image has been averaged together\n",
    "\n",
    "In practice the first option is probably more common. Optical morphology is often distinguished on the basis of $r$-band imaging alone (see, e.g., [Kannappan, Guie, & Baker 2009](http://adsabs.harvard.edu/cgi-bin/bib_query?arXiv:0903.3695))."
   ]
  },
  {
   "cell_type": "markdown",
   "metadata": {},
   "source": [
    "# Imports and helper functions"
   ]
  },
  {
   "cell_type": "code",
   "execution_count": 2,
   "metadata": {},
   "outputs": [],
   "source": [
    "%reload_ext autoreload\n",
    "%autoreload 2\n",
    "%matplotlib inline\n",
    "\n",
    "from fastai.imports import *\n",
    "from fastai.transforms import *\n",
    "from fastai.conv_learner import *\n",
    "from fastai.model import *\n",
    "from fastai.dataset import *\n",
    "from fastai.sgdr import *\n",
    "from fastai.plots import *\n",
    "\n",
    "import torch \n",
    "\n",
    "from IPython.display import display\n",
    "\n",
    "PATH = os.path.abspath('..')"
   ]
  },
  {
   "cell_type": "code",
   "execution_count": 3,
   "metadata": {},
   "outputs": [],
   "source": [
    "def parse_csv_multi_class_values(path_to_csv):\n",
    "    \"\"\"Parse filenames and values for classes from a CSV file.\n",
    "\n",
    "    This method expects that the csv file at path :fn: has one column for filenames,\n",
    "    while all the other columns represent classes.\n",
    "    Expects a header with class names\n",
    "\n",
    "    Arguments:\n",
    "        path_to_csv: Path to a CSV file.\n",
    "\n",
    "    Returns:\n",
    "        a three-tuple of:            \n",
    "            a list of filenames\n",
    "            a list of values in the same order\n",
    "            a dictionary of classes by classIndex           \n",
    "    \"\"\"\n",
    "    with open(path_to_csv) as fileobj:\n",
    "        reader = csv.reader(fileobj)\n",
    "        header = next(reader)\n",
    "        csv_lines = [l for l in reader]\n",
    "\n",
    "    fnames = [fname for fname, *_ in csv_lines]\n",
    "    classes = header[1:]\n",
    "    values = [vals for _, *vals in csv_lines]\n",
    "    idx2class = {i:c for i, c in enumerate(classes)}\n",
    "   \n",
    "    return fnames, values, idx2class\n",
    "\n",
    "def csv_source_multi_class(folder, csv_file, suffix=''):\n",
    "    fnames, values, idx2class = parse_csv_multi_class_values(csv_file)\n",
    "    full_names = [os.path.join(folder,fn+suffix) for fn in fnames]\n",
    "   \n",
    "    val_arr = np.array(values).astype(np.float32)\n",
    "    \n",
    "    return full_names, val_arr, idx2class\n",
    "\n",
    "@classmethod\n",
    "def from_multiclass_csv(cls, path, folder, csv_fname, bs=64, tfms=(None,None),\n",
    "           val_idxs=None, suffix='', test_name=None, num_workers=8):\n",
    "    \"\"\" Read in images and their labels given as a CSV file.\n",
    "--\n",
    "    This method should be used when training image labels are given in an CSV file as opposed to\n",
    "    sub-directories with label names.\n",
    "\n",
    "    Arguments:\n",
    "        path: a root path of the data (used for storing trained models, precomputed values, etc)\n",
    "        folder: a name of the folder in which training images are contained.\n",
    "        csv_fname: a name of the CSV file which contains target labels.\n",
    "        bs: batch size\n",
    "        tfms: transformations (for data augmentations). e.g. output of `tfms_from_model`\n",
    "        val_idxs: index of images to be used for validation. e.g. output of `get_cv_idxs`.\n",
    "            If None, default arguments to get_cv_idxs are used.\n",
    "        suffix: suffix to add to image names in CSV file (sometimes CSV only contains the file name without file\n",
    "                extension e.g. '.jpg' - in which case, you can set suffix as '.jpg')\n",
    "        test_name: a name of the folder which contains test images.\n",
    "        skip_header: skip the first row of the CSV file.\n",
    "        num_workers: number of workers\n",
    "\n",
    "    Returns:\n",
    "        ImageClassifierData\n",
    "    \"\"\"\n",
    "    fnames,y,idx2class = csv_source_multi_class(folder, csv_fname, suffix)\n",
    "\n",
    "    val_idxs = get_cv_idxs(len(fnames)) if val_idxs is None else val_idxs\n",
    "    ((val_fnames,trn_fnames),(val_y,trn_y)) = split_by_idx(val_idxs, np.array(fnames), y)\n",
    "\n",
    "    test_fnames = read_dir(path, test_name) if test_name else None\n",
    "    \n",
    "    f = FilesIndexArrayRegressionDataset\n",
    "    datasets = cls.get_ds(f, (trn_fnames,trn_y), (val_fnames,val_y), tfms,\n",
    "                           path=path, test=test_fnames)\n",
    "    return cls(path, datasets, bs, num_workers, classes=list(idx2class.values()))\n",
    "\n",
    "ImageClassifierData.from_multiclass_csv = from_multiclass_csv"
   ]
  },
  {
   "cell_type": "code",
   "execution_count": 4,
   "metadata": {},
   "outputs": [],
   "source": [
    "train_label_csv = f'{PATH}/catalogs/train-metaldist.csv'\n",
    "df = pd.read_csv(train_label_csv, index_col=0)\n",
    "\n",
    "n = len(df)\n",
    "\n",
    "# test-val split\n",
    "val_idxs = get_cv_idxs(n)"
   ]
  },
  {
   "cell_type": "code",
   "execution_count": 5,
   "metadata": {},
   "outputs": [],
   "source": [
    "sz = 128\n",
    "bs = 512\n",
    "arch = resnet34\n",
    "\n",
    "trn_tfms, val_tfms = tfms_from_model(arch, sz, aug_tfms=transforms_top_down, max_zoom=1.05)\n",
    "data = ImageClassifierData.from_multiclass_csv(PATH, 'images', train_label_csv, tfms=(trn_tfms, val_tfms),\n",
    "                    suffix='.jpg', val_idxs=val_idxs, test_name='test', num_workers=8)"
   ]
  },
  {
   "cell_type": "markdown",
   "metadata": {},
   "source": [
    "# Load in previous learner (trained on *gri* imaging)"
   ]
  },
  {
   "cell_type": "code",
   "execution_count": 103,
   "metadata": {},
   "outputs": [],
   "source": [
    "learn = ConvLearner.pretrained(arch, data, precompute=False)\n",
    "\n",
    "learn.load('resnet34-CLR-init')\n",
    "\n",
    "def rmse(x, y):\n",
    "    return torch.sqrt(F.mse_loss(x,y))\n",
    "\n",
    "metrics = [rmse]\n",
    "learn.crit = rmse"
   ]
  },
  {
   "cell_type": "markdown",
   "metadata": {},
   "source": [
    "# Make predictions!"
   ]
  },
  {
   "cell_type": "code",
   "execution_count": 118,
   "metadata": {},
   "outputs": [
    {
     "data": {
      "text/plain": [
       "array([[8.9047 , 8.94521, 8.98178, 9.01745, 9.05461],\n",
       "       [8.15882, 8.37416, 8.57304, 8.71865, 8.83427],\n",
       "       [8.73939, 8.77169, 8.80144, 8.8283 , 8.85306],\n",
       "       ...,\n",
       "       [8.85019, 8.90388, 8.95325, 9.00064, 9.04852],\n",
       "       [8.25977, 8.41567, 8.5602 , 8.66741, 8.74917],\n",
       "       [8.97699, 9.00442, 9.03114, 9.05826, 9.08782]], dtype=float32)"
      ]
     },
     "execution_count": 118,
     "metadata": {},
     "output_type": "execute_result"
    }
   ],
   "source": [
    "learn.predict()"
   ]
  },
  {
   "cell_type": "code",
   "execution_count": 104,
   "metadata": {},
   "outputs": [],
   "source": [
    "id_numbers = np.array([fname[5:-4] for fname in data.test_ds.fnames], dtype=np.int64)\n",
    "\n",
    "def retrieve_r_image(obj_id):\n",
    "    [idx] = np.where(obj_id == id_numbers)[0]\n",
    "    r_band = data.test_ds.get_x(idx)[:, :, 1]\n",
    "\n",
    "    return np.stack([r_band, r_band, r_band], axis=2) # make 128x128x3"
   ]
  },
  {
   "cell_type": "code",
   "execution_count": 125,
   "metadata": {},
   "outputs": [
    {
     "data": {
      "text/html": [
       "<div>\n",
       "<style scoped>\n",
       "    .dataframe tbody tr th:only-of-type {\n",
       "        vertical-align: middle;\n",
       "    }\n",
       "\n",
       "    .dataframe tbody tr th {\n",
       "        vertical-align: top;\n",
       "    }\n",
       "\n",
       "    .dataframe thead th {\n",
       "        text-align: right;\n",
       "    }\n",
       "</style>\n",
       "<table border=\"1\" class=\"dataframe\">\n",
       "  <thead>\n",
       "    <tr style=\"text-align: right;\">\n",
       "      <th></th>\n",
       "      <th>oh_p2p5</th>\n",
       "      <th>oh_p16</th>\n",
       "      <th>oh_p50</th>\n",
       "      <th>oh_p84</th>\n",
       "      <th>oh_p97p5</th>\n",
       "    </tr>\n",
       "    <tr>\n",
       "      <th>objID</th>\n",
       "      <th></th>\n",
       "      <th></th>\n",
       "      <th></th>\n",
       "      <th></th>\n",
       "      <th></th>\n",
       "    </tr>\n",
       "  </thead>\n",
       "  <tbody>\n",
       "    <tr>\n",
       "      <th>1237648672922206684</th>\n",
       "      <td>8.600992</td>\n",
       "      <td>8.644032</td>\n",
       "      <td>8.676655</td>\n",
       "      <td>8.706522</td>\n",
       "      <td>8.729147</td>\n",
       "    </tr>\n",
       "    <tr>\n",
       "      <th>1237648673431879906</th>\n",
       "      <td>8.763014</td>\n",
       "      <td>8.829043</td>\n",
       "      <td>8.915661</td>\n",
       "      <td>8.985325</td>\n",
       "      <td>9.059927</td>\n",
       "    </tr>\n",
       "    <tr>\n",
       "      <th>1237648673458028997</th>\n",
       "      <td>8.801155</td>\n",
       "      <td>8.808941</td>\n",
       "      <td>8.824834</td>\n",
       "      <td>8.835920</td>\n",
       "      <td>8.848814</td>\n",
       "    </tr>\n",
       "    <tr>\n",
       "      <th>1237648673459470810</th>\n",
       "      <td>8.527153</td>\n",
       "      <td>8.568700</td>\n",
       "      <td>8.598277</td>\n",
       "      <td>8.649737</td>\n",
       "      <td>8.696940</td>\n",
       "    </tr>\n",
       "    <tr>\n",
       "      <th>1237648673994768731</th>\n",
       "      <td>8.224578</td>\n",
       "      <td>8.344159</td>\n",
       "      <td>8.486758</td>\n",
       "      <td>8.578484</td>\n",
       "      <td>8.660710</td>\n",
       "    </tr>\n",
       "  </tbody>\n",
       "</table>\n",
       "</div>"
      ],
      "text/plain": [
       "                      oh_p2p5    oh_p16    oh_p50    oh_p84  oh_p97p5\n",
       "objID                                                                \n",
       "1237648672922206684  8.600992  8.644032  8.676655  8.706522  8.729147\n",
       "1237648673431879906  8.763014  8.829043  8.915661  8.985325  9.059927\n",
       "1237648673458028997  8.801155  8.808941  8.824834  8.835920  8.848814\n",
       "1237648673459470810  8.527153  8.568700  8.598277  8.649737  8.696940\n",
       "1237648673994768731  8.224578  8.344159  8.486758  8.578484  8.660710"
      ]
     },
     "execution_count": 125,
     "metadata": {},
     "output_type": "execute_result"
    }
   ],
   "source": [
    "df_test = pd.read_csv(f'{PATH}/catalogs/test-metaldist.csv', index_col=0)\n",
    "df_test.head()"
   ]
  },
  {
   "cell_type": "code",
   "execution_count": 129,
   "metadata": {
    "scrolled": false
   },
   "outputs": [
    {
     "data": {
      "text/plain": [
       "oh_p2p5     8.616034\n",
       "oh_p16      8.664618\n",
       "oh_p50      8.691298\n",
       "oh_p84      8.718909\n",
       "oh_p97p5    8.759433\n",
       "Name: 1237648720686153859, dtype: float64"
      ]
     },
     "metadata": {},
     "output_type": "display_data"
    },
    {
     "data": {
      "text/plain": [
       "array([[8.5568 , 8.6274 , 8.68837, 8.73705, 8.77794]], dtype=float32)"
      ]
     },
     "metadata": {},
     "output_type": "display_data"
    },
    {
     "data": {
      "image/png": "[encoded data removed]",
      "text/plain": [
       "<Figure size 432x288 with 1 Axes>"
      ]
     },
     "metadata": {},
     "output_type": "display_data"
    }
   ],
   "source": [
    "# get test image + answer\n",
    "obj_id = df_test.index[256]\n",
    "display(df_test.loc[obj_id])\n",
    "\n",
    "r_image = retrieve_r_image(obj_id)\n",
    "plt.imshow(r_image);\n",
    "\n",
    "# make prediction\n",
    "pred = learn.predict_array(trn_tfms(r_image)[None])\n",
    "display(pred)"
   ]
  },
  {
   "cell_type": "markdown",
   "metadata": {},
   "source": [
    "## Make all grayscale image predictions\n",
    "\n",
    "**Only using r-band here**"
   ]
  },
  {
   "cell_type": "code",
   "execution_count": 131,
   "metadata": {},
   "outputs": [
    {
     "data": {
      "application/vnd.jupyter.widget-view+json": {
       "model_id": "e260f5df8d23446488dc5d525aac8096",
       "version_major": 2,
       "version_minor": 0
      },
      "text/plain": [
       "HBox(children=(IntProgress(value=0, max=20466), HTML(value='')))"
      ]
     },
     "metadata": {},
     "output_type": "display_data"
    },
    {
     "name": "stdout",
     "output_type": "stream",
     "text": [
      "\n"
     ]
    }
   ],
   "source": [
    "preds = np.zeros((len(df_test), 5))\n",
    "\n",
    "for idx in tqdm_notebook(range(len(df_test)), total=len(df_test)):\n",
    "    obj_id = df_test.index[idx]\n",
    "    preds[idx] = learn.predict_array(trn_tfms(retrieve_r_image(obj_id))[None])\n"
   ]
  },
  {
   "cell_type": "markdown",
   "metadata": {},
   "source": [
    "Compare distributions with the truth values..."
   ]
  },
  {
   "cell_type": "code",
   "execution_count": 148,
   "metadata": {},
   "outputs": [],
   "source": [
    "truths = df_test.values"
   ]
  },
  {
   "cell_type": "code",
   "execution_count": 147,
   "metadata": {},
   "outputs": [
    {
     "data": {
      "image/png": "[encoded data removed]",
      "text/plain": [
       "<Figure size 432x288 with 1 Axes>"
      ]
     },
     "metadata": {},
     "output_type": "display_data"
    }
   ],
   "source": [
    "rms_errors = np.sqrt(np.mean((preds - truths)**2, axis=0))\n",
    "\n",
    "for i in range(5):\n",
    "    plt.hist(preds[:, i]-truths[:, i], bins=100, histtype='step', range=[-0.5, 0.5]);\n",
    "plt.legend([f'{percentile:>5s}: {error:.3f}' for percentile, error in zip(['2.5', '16', '50', '84', '97.5'], rms_errors)]);\n",
    "plt.xlim(-0.5, 0.5)\n",
    "plt.axvline(0, c='k')\n",
    "plt.xlabel('rms error');"
   ]
  },
  {
   "cell_type": "markdown",
   "metadata": {},
   "source": [
    "Compare this to random shuffling:"
   ]
  },
  {
   "cell_type": "code",
   "execution_count": 154,
   "metadata": {},
   "outputs": [
    {
     "data": {
      "image/png": "[encoded data removed]",
      "text/plain": [
       "<Figure size 432x288 with 1 Axes>"
      ]
     },
     "metadata": {},
     "output_type": "display_data"
    }
   ],
   "source": [
    "for i in range(5):\n",
    "    plt.hist(np.random.permutation(preds[:, i])-truths[:, i], bins=100, histtype='step', range=[-0.5, 0.5]);\n",
    "plt.xlim(-0.5, 0.5)\n",
    "plt.axvline(0, c='k')\n",
    "plt.xlabel('rms error');"
   ]
  },
  {
   "cell_type": "markdown",
   "metadata": {},
   "source": [
    "Monochrome images only beats a random permutation by about **0.04 dex** -- or in other words, we're only doing a little bit better using nothing but r-band morphology than by choosing any random r-band SDSS galaxy."
   ]
  },
  {
   "cell_type": "code",
   "execution_count": 153,
   "metadata": {},
   "outputs": [
    {
     "data": {
      "image/png": "[encoded data removed]",
      "text/plain": [
       "<Figure size 432x288 with 1 Axes>"
      ]
     },
     "metadata": {},
     "output_type": "display_data"
    }
   ],
   "source": [
    "plt.hist(preds[:, 2], log=True, bins=100, histtype='step', label='Predictions')\n",
    "plt.hist(truths[:, 2], log=True, bins=100, histtype='step', label='Truths')\n",
    "plt.legend();"
   ]
  },
  {
   "cell_type": "markdown",
   "metadata": {},
   "source": [
    "# Train on single-color images"
   ]
  },
  {
   "cell_type": "code",
   "execution_count": null,
   "metadata": {},
   "outputs": [],
   "source": [
    "learn = ConvLearner.pretrained(arch, data, precompute=False)\n",
    "\n",
    "def rmse(x, y):\n",
    "    return torch.sqrt(F.mse_loss(x,y))\n",
    "\n",
    "metrics = [rmse]\n",
    "learn.crit = rmse"
   ]
  }
 ],
 "metadata": {
  "kernelspec": {
   "display_name": "Python [conda env:fastai]",
   "language": "python",
   "name": "conda-env-fastai-py"
  },
  "language_info": {
   "codemirror_mode": {
    "name": "ipython",
    "version": 3
   },
   "file_extension": ".py",
   "mimetype": "text/x-python",
   "name": "python",
   "nbconvert_exporter": "python",
   "pygments_lexer": "ipython3",
   "version": "3.6.5"
  },
  "toc": {
   "base_numbering": 1,
   "nav_menu": {},
   "number_sections": true,
   "sideBar": true,
   "skip_h1_title": false,
   "title_cell": "Table of Contents",
   "title_sidebar": "Contents",
   "toc_cell": false,
   "toc_position": {},
   "toc_section_display": true,
   "toc_window_display": false
  }
 },
 "nbformat": 4,
 "nbformat_minor": 2
}
